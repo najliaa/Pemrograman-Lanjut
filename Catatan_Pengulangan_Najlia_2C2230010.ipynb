{
  "nbformat": 4,
  "nbformat_minor": 0,
  "metadata": {
    "colab": {
      "provenance": [],
      "include_colab_link": true
    },
    "kernelspec": {
      "name": "python3",
      "display_name": "Python 3"
    },
    "language_info": {
      "name": "python"
    }
  },
  "cells": [
    {
      "cell_type": "markdown",
      "metadata": {
        "id": "view-in-github",
        "colab_type": "text"
      },
      "source": [
        "<a href=\"https://colab.research.google.com/github/najliaa/Pemrograman-Lanjut/blob/main/Catatan_Pengulangan_Najlia_2C2230010.ipynb\" target=\"_parent\"><img src=\"https://colab.research.google.com/assets/colab-badge.svg\" alt=\"Open In Colab\"/></a>"
      ]
    },
    {
      "cell_type": "markdown",
      "source": [
        "#**🖥️👩🏻‍💻PRAKTIKUM PEMROGRAMAN LANJUT🔥**\n",
        "##**Pertemuan (2) PENGULANGAN (LOOP) - Senin, 21 Oktober 2024**\n",
        "\n",
        "👤 Nama: Najlia Intani / NRP: 2C2230010 / Kelas: II/A Sains Data\n",
        "\n",
        "💬Deskripsi Pembahasan Materi Pengulangan:\n",
        "\n",
        "1.1.  Pengulangan (LOOP) 🔂\n",
        "- While Loop 🐋\n",
        "\n",
        "- For Loop\n",
        "\n",
        "1.2. Pengulangan Bersarang ( NESTED LOOP) 🔂🐦‍\n",
        "\n",
        "\n"
      ],
      "metadata": {
        "id": "_bN6_LxQCJZT"
      }
    },
    {
      "cell_type": "markdown",
      "source": [
        "#🤸🏻‍♀️ EKSPLORASI PRIBADI DI KELAS ✨"
      ],
      "metadata": {
        "id": "N0U2Qjks8P9F"
      }
    },
    {
      "cell_type": "markdown",
      "source": [
        "PENGENALAN LIST\n",
        "List merupakan mutable atau berarti anda dapat mengubah elemen-elemennya."
      ],
      "metadata": {
        "id": "2JzYHygYLXDK"
      }
    },
    {
      "cell_type": "code",
      "execution_count": null,
      "metadata": {
        "id": "itmMcxv88OIm",
        "outputId": "ea229a12-56a3-44c0-ecfa-2191a57d804f",
        "colab": {
          "base_uri": "https://localhost:8080/"
        }
      },
      "outputs": [
        {
          "output_type": "stream",
          "name": "stdout",
          "text": [
            "[1, 2, 10]\n"
          ]
        }
      ],
      "source": [
        "my_list = [1, 2, 3]\n",
        "my_list[2]= 10 #list dapat diubah\n",
        "print(my_list) #output: [10, 2, 3]"
      ]
    },
    {
      "cell_type": "markdown",
      "source": [
        "PENGENALAN TUPLE\n",
        "Tuple adalah immutable, artinya setelah tuple dibuat, elemen-elemennya tidak bisa diubah, ditambah, atau dihapus."
      ],
      "metadata": {
        "id": "YiFTHxmvMAbT"
      }
    },
    {
      "cell_type": "code",
      "source": [
        "my_tuple=(1, 2, 3)\n",
        "my_tuple[2]= 10 #akan menghasilkan error"
      ],
      "metadata": {
        "id": "th5ehS1HML8E",
        "outputId": "171f0ace-4a07-4f45-f3d8-daacd4697aef",
        "colab": {
          "base_uri": "https://localhost:8080/",
          "height": 159
        }
      },
      "execution_count": null,
      "outputs": [
        {
          "output_type": "error",
          "ename": "TypeError",
          "evalue": "'tuple' object does not support item assignment",
          "traceback": [
            "\u001b[0;31m---------------------------------------------------------------------------\u001b[0m",
            "\u001b[0;31mTypeError\u001b[0m                                 Traceback (most recent call last)",
            "\u001b[0;32m<ipython-input-7-3796fa4b9c27>\u001b[0m in \u001b[0;36m<cell line: 2>\u001b[0;34m()\u001b[0m\n\u001b[1;32m      1\u001b[0m \u001b[0mmy_tuple\u001b[0m\u001b[0;34m=\u001b[0m\u001b[0;34m(\u001b[0m\u001b[0;36m1\u001b[0m\u001b[0;34m,\u001b[0m \u001b[0;36m2\u001b[0m\u001b[0;34m,\u001b[0m \u001b[0;36m3\u001b[0m\u001b[0;34m)\u001b[0m\u001b[0;34m\u001b[0m\u001b[0;34m\u001b[0m\u001b[0m\n\u001b[0;32m----> 2\u001b[0;31m \u001b[0mmy_tuple\u001b[0m\u001b[0;34m[\u001b[0m\u001b[0;36m2\u001b[0m\u001b[0;34m]\u001b[0m\u001b[0;34m=\u001b[0m \u001b[0;36m10\u001b[0m \u001b[0;31m#akan menghasilkan error\u001b[0m\u001b[0;34m\u001b[0m\u001b[0;34m\u001b[0m\u001b[0m\n\u001b[0m",
            "\u001b[0;31mTypeError\u001b[0m: 'tuple' object does not support item assignment"
          ]
        }
      ]
    },
    {
      "cell_type": "markdown",
      "source": [
        "- Interpretasi coding:\n",
        "\n",
        "- Interpretasi Hasil:"
      ],
      "metadata": {
        "id": "f1J9LJyv9-YC"
      }
    },
    {
      "cell_type": "markdown",
      "source": [
        "PERULANGAN"
      ],
      "metadata": {
        "id": "GQVN8soSMe7y"
      }
    },
    {
      "cell_type": "markdown",
      "source": [
        "FOR LOOP"
      ],
      "metadata": {
        "id": "uUggoeyiMk6p"
      }
    },
    {
      "cell_type": "code",
      "source": [
        "var_list = [1,2,3,4,5,6,7,8,9,10]\n",
        "for i in var_list:\n",
        "  print(i)"
      ],
      "metadata": {
        "id": "BjFYYKcjMoRx",
        "outputId": "31b25345-f762-492c-a834-a76cffe318c3",
        "colab": {
          "base_uri": "https://localhost:8080/"
        }
      },
      "execution_count": null,
      "outputs": [
        {
          "output_type": "stream",
          "name": "stdout",
          "text": [
            "1\n",
            "2\n",
            "3\n",
            "4\n",
            "5\n",
            "6\n",
            "7\n",
            "8\n",
            "9\n",
            "10\n"
          ]
        }
      ]
    },
    {
      "cell_type": "code",
      "source": [
        "huruf = \"Sains Data IKOPIN University\"\n",
        "for i in huruf:\n",
        "  print(i)"
      ],
      "metadata": {
        "id": "5ugNkZDrN4Mq",
        "outputId": "df9b75c6-ed6b-4701-d06b-7e5cc1c65cba",
        "colab": {
          "base_uri": "https://localhost:8080/"
        }
      },
      "execution_count": null,
      "outputs": [
        {
          "output_type": "stream",
          "name": "stdout",
          "text": [
            "S\n",
            "a\n",
            "i\n",
            "n\n",
            "s\n",
            " \n",
            "D\n",
            "a\n",
            "t\n",
            "a\n",
            " \n",
            "I\n",
            "K\n",
            "O\n",
            "P\n",
            "I\n",
            "N\n",
            " \n",
            "U\n",
            "n\n",
            "i\n",
            "v\n",
            "e\n",
            "r\n",
            "s\n",
            "i\n",
            "t\n",
            "y\n"
          ]
        }
      ]
    },
    {
      "cell_type": "code",
      "source": [
        "for i in range (10):\n",
        "  print(i)"
      ],
      "metadata": {
        "id": "nyHpRncfPe8R",
        "outputId": "e6b5c15e-b4c3-410e-ff0a-3dc56b5c300e",
        "colab": {
          "base_uri": "https://localhost:8080/"
        }
      },
      "execution_count": null,
      "outputs": [
        {
          "output_type": "stream",
          "name": "stdout",
          "text": [
            "0\n",
            "1\n",
            "2\n",
            "3\n",
            "4\n",
            "5\n",
            "6\n",
            "7\n",
            "8\n",
            "9\n"
          ]
        }
      ]
    },
    {
      "cell_type": "code",
      "source": [
        "for i in range(1,10):\n",
        "  print(i)"
      ],
      "metadata": {
        "id": "GxZ1bogAOXD5",
        "outputId": "a3fb4cf6-6454-4463-f393-e3ec6163b579",
        "colab": {
          "base_uri": "https://localhost:8080/"
        }
      },
      "execution_count": null,
      "outputs": [
        {
          "output_type": "stream",
          "name": "stdout",
          "text": [
            "1\n",
            "2\n",
            "3\n",
            "4\n",
            "5\n",
            "6\n",
            "7\n",
            "8\n",
            "9\n"
          ]
        }
      ]
    },
    {
      "cell_type": "code",
      "source": [
        "for i in range (0,10,1):\n",
        "  print(i)"
      ],
      "metadata": {
        "id": "zyAYjTgAP2bR",
        "outputId": "1715c8ad-50de-4013-b0a3-bbc238f05236",
        "colab": {
          "base_uri": "https://localhost:8080/"
        }
      },
      "execution_count": null,
      "outputs": [
        {
          "output_type": "stream",
          "name": "stdout",
          "text": [
            "0\n",
            "1\n",
            "2\n",
            "3\n",
            "4\n",
            "5\n",
            "6\n",
            "7\n",
            "8\n",
            "9\n"
          ]
        }
      ]
    },
    {
      "cell_type": "code",
      "source": [
        "for i in range(1,10,2):\n",
        "  print(i)"
      ],
      "metadata": {
        "id": "N6P46a7QPapR",
        "outputId": "84173a2d-8cec-4e37-8c12-741fa8d20f91",
        "colab": {
          "base_uri": "https://localhost:8080/"
        }
      },
      "execution_count": null,
      "outputs": [
        {
          "output_type": "stream",
          "name": "stdout",
          "text": [
            "1\n",
            "3\n",
            "5\n",
            "7\n",
            "9\n"
          ]
        }
      ]
    },
    {
      "cell_type": "code",
      "source": [
        "for i in range (100):\n",
        "  print(\"Hello Naje Cute\")"
      ],
      "metadata": {
        "id": "qNWozgT8QCpa",
        "outputId": "0c1d7ccf-c546-4cd7-f5c3-20ca783134be",
        "colab": {
          "base_uri": "https://localhost:8080/"
        }
      },
      "execution_count": 2,
      "outputs": [
        {
          "output_type": "stream",
          "name": "stdout",
          "text": [
            "Hello Naje Cute\n",
            "Hello Naje Cute\n",
            "Hello Naje Cute\n",
            "Hello Naje Cute\n",
            "Hello Naje Cute\n",
            "Hello Naje Cute\n",
            "Hello Naje Cute\n",
            "Hello Naje Cute\n",
            "Hello Naje Cute\n",
            "Hello Naje Cute\n",
            "Hello Naje Cute\n",
            "Hello Naje Cute\n",
            "Hello Naje Cute\n",
            "Hello Naje Cute\n",
            "Hello Naje Cute\n",
            "Hello Naje Cute\n",
            "Hello Naje Cute\n",
            "Hello Naje Cute\n",
            "Hello Naje Cute\n",
            "Hello Naje Cute\n",
            "Hello Naje Cute\n",
            "Hello Naje Cute\n",
            "Hello Naje Cute\n",
            "Hello Naje Cute\n",
            "Hello Naje Cute\n",
            "Hello Naje Cute\n",
            "Hello Naje Cute\n",
            "Hello Naje Cute\n",
            "Hello Naje Cute\n",
            "Hello Naje Cute\n",
            "Hello Naje Cute\n",
            "Hello Naje Cute\n",
            "Hello Naje Cute\n",
            "Hello Naje Cute\n",
            "Hello Naje Cute\n",
            "Hello Naje Cute\n",
            "Hello Naje Cute\n",
            "Hello Naje Cute\n",
            "Hello Naje Cute\n",
            "Hello Naje Cute\n",
            "Hello Naje Cute\n",
            "Hello Naje Cute\n",
            "Hello Naje Cute\n",
            "Hello Naje Cute\n",
            "Hello Naje Cute\n",
            "Hello Naje Cute\n",
            "Hello Naje Cute\n",
            "Hello Naje Cute\n",
            "Hello Naje Cute\n",
            "Hello Naje Cute\n",
            "Hello Naje Cute\n",
            "Hello Naje Cute\n",
            "Hello Naje Cute\n",
            "Hello Naje Cute\n",
            "Hello Naje Cute\n",
            "Hello Naje Cute\n",
            "Hello Naje Cute\n",
            "Hello Naje Cute\n",
            "Hello Naje Cute\n",
            "Hello Naje Cute\n",
            "Hello Naje Cute\n",
            "Hello Naje Cute\n",
            "Hello Naje Cute\n",
            "Hello Naje Cute\n",
            "Hello Naje Cute\n",
            "Hello Naje Cute\n",
            "Hello Naje Cute\n",
            "Hello Naje Cute\n",
            "Hello Naje Cute\n",
            "Hello Naje Cute\n",
            "Hello Naje Cute\n",
            "Hello Naje Cute\n",
            "Hello Naje Cute\n",
            "Hello Naje Cute\n",
            "Hello Naje Cute\n",
            "Hello Naje Cute\n",
            "Hello Naje Cute\n",
            "Hello Naje Cute\n",
            "Hello Naje Cute\n",
            "Hello Naje Cute\n",
            "Hello Naje Cute\n",
            "Hello Naje Cute\n",
            "Hello Naje Cute\n",
            "Hello Naje Cute\n",
            "Hello Naje Cute\n",
            "Hello Naje Cute\n",
            "Hello Naje Cute\n",
            "Hello Naje Cute\n",
            "Hello Naje Cute\n",
            "Hello Naje Cute\n",
            "Hello Naje Cute\n",
            "Hello Naje Cute\n",
            "Hello Naje Cute\n",
            "Hello Naje Cute\n",
            "Hello Naje Cute\n",
            "Hello Naje Cute\n",
            "Hello Naje Cute\n",
            "Hello Naje Cute\n",
            "Hello Naje Cute\n",
            "Hello Naje Cute\n"
          ]
        }
      ]
    },
    {
      "cell_type": "code",
      "source": [
        "for i in range(2, 5, 1):\n",
        "    print(i)"
      ],
      "metadata": {
        "id": "A6wYx6ItQgHR",
        "outputId": "52f7c667-80b3-4176-d7d5-9000392158d7",
        "colab": {
          "base_uri": "https://localhost:8080/"
        }
      },
      "execution_count": null,
      "outputs": [
        {
          "output_type": "stream",
          "name": "stdout",
          "text": [
            "2\n",
            "3\n",
            "4\n"
          ]
        }
      ]
    },
    {
      "cell_type": "code",
      "source": [
        "a=int(input())\n",
        "b=int(input())\n",
        "for i in range(a,b+1):\n",
        "  print(i)"
      ],
      "metadata": {
        "id": "LZZ-uzCPSmMh",
        "outputId": "9408cac2-bf4e-4819-ce53-a3a0a0f61ae8",
        "colab": {
          "base_uri": "https://localhost:8080/"
        }
      },
      "execution_count": null,
      "outputs": [
        {
          "output_type": "stream",
          "name": "stdout",
          "text": [
            "6\n",
            "9\n",
            "6\n",
            "7\n",
            "8\n",
            "9\n"
          ]
        }
      ]
    },
    {
      "cell_type": "markdown",
      "source": [
        "WHILE LOOP"
      ],
      "metadata": {
        "id": "p2ymeWQST4_m"
      }
    },
    {
      "cell_type": "code",
      "source": [
        "counter = 1 #nilai start\n",
        "while counter <= 5: #stop\n",
        "    print(counter)\n",
        "    counter += 1 #step #Increment/penambahan"
      ],
      "metadata": {
        "id": "eNVb5MFvQkda",
        "colab": {
          "base_uri": "https://localhost:8080/"
        },
        "outputId": "8cb8b2cd-08a1-488c-9d24-8379ecb9ab4b"
      },
      "execution_count": null,
      "outputs": [
        {
          "output_type": "stream",
          "name": "stdout",
          "text": [
            "1\n",
            "2\n",
            "3\n",
            "4\n",
            "5\n"
          ]
        }
      ]
    },
    {
      "cell_type": "code",
      "source": [
        "a=int(input())\n",
        "b=int(input())\n",
        "\n",
        "i=a\n",
        "while i<=b:\n",
        "  print(i)\n",
        "  i+=1"
      ],
      "metadata": {
        "colab": {
          "base_uri": "https://localhost:8080/"
        },
        "id": "ABzWZFQUUf5Y",
        "outputId": "d61ad576-24f9-4d42-95ce-537912f1b24e"
      },
      "execution_count": null,
      "outputs": [
        {
          "output_type": "stream",
          "name": "stdout",
          "text": [
            "5\n",
            "10\n",
            "5\n",
            "6\n",
            "7\n",
            "8\n",
            "9\n",
            "10\n"
          ]
        }
      ]
    },
    {
      "cell_type": "markdown",
      "source": [
        "FOR NESTED LOOP"
      ],
      "metadata": {
        "id": "ZJReN_qRWFPQ"
      }
    },
    {
      "cell_type": "code",
      "source": [
        "n = int(input())\n",
        "\n",
        "for i in range(n):\n",
        "    for j in range(i+1):\n",
        "        print(\"*\", end=\"\")"
      ],
      "metadata": {
        "colab": {
          "base_uri": "https://localhost:8080/"
        },
        "id": "gYoYJnIGWHW4",
        "outputId": "6f8ebdf0-7d0f-4ac6-b158-9f4fa8067a39"
      },
      "execution_count": null,
      "outputs": [
        {
          "output_type": "stream",
          "name": "stdout",
          "text": [
            "2\n",
            "***"
          ]
        }
      ]
    },
    {
      "cell_type": "code",
      "source": [
        "n = int(input())\n",
        "\n",
        "for i in range(n):\n",
        "    for j in range(i+1):\n",
        "        print(\"*\", end=\"\")\n",
        "    print()"
      ],
      "metadata": {
        "colab": {
          "base_uri": "https://localhost:8080/"
        },
        "id": "XNut8wA8XJKI",
        "outputId": "604a2f8e-cb10-4b9b-f2e0-d4b7ad963da9"
      },
      "execution_count": null,
      "outputs": [
        {
          "output_type": "stream",
          "name": "stdout",
          "text": [
            "2\n",
            "*\n",
            "**\n"
          ]
        }
      ]
    },
    {
      "cell_type": "markdown",
      "source": [
        "#🧠 LATIHAN SOAL DI KELAS ⏱️"
      ],
      "metadata": {
        "id": "KEGjH0_P9D1-"
      }
    },
    {
      "cell_type": "markdown",
      "source": [
        "SOAL 1\n",
        "Buatlah program yang menerima bilangan N dan menuliskan bilangan 10x terkecil yang lebih dari N."
      ],
      "metadata": {
        "id": "3lb8jRK0Ff8H"
      }
    },
    {
      "cell_type": "code",
      "source": [
        "def cari_10pangkatx(n):\n",
        "  x = 0\n",
        "  pangkat10 = 1\n",
        "  while pangkat10 <= n:\n",
        "    x += 1\n",
        "    pangkat10 = 10 ** x\n",
        "  return pangkat10\n",
        "\n",
        "n = int(input(\"Masukkan bilangan N: \"))\n",
        "hasil = cari_10pangkatx(n)\n",
        "print(\"Bilangan 10 pangkat x terkecil yang lebih dari\", n, \"adalah:\", hasil)"
      ],
      "metadata": {
        "colab": {
          "base_uri": "https://localhost:8080/"
        },
        "id": "9BYzowiRF-An",
        "outputId": "23d81d4e-c74a-45b6-fcba-01b3ef424a4b"
      },
      "execution_count": 18,
      "outputs": [
        {
          "output_type": "stream",
          "name": "stdout",
          "text": [
            "Masukkan bilangan N: 5\n",
            "Bilangan 10 pangkat x terkecil yang lebih dari 5 adalah: 10\n"
          ]
        }
      ]
    },
    {
      "cell_type": "code",
      "source": [
        "def cari_10pangkatx(n):\n",
        "  x = 0\n",
        "  pangkat10 = 1\n",
        "  while pangkat10 <= n:\n",
        "    x += 1\n",
        "    pangkat10 = 10 ** x\n",
        "  return pangkat10\n",
        "\n",
        "n = int(input(\"Masukkan bilangan N: \"))\n",
        "hasil = cari_10pangkatx(n)\n",
        "print(\"Bilangan 10 pangkat x terkecil yang lebih dari\", n, \"adalah:\", hasil)"
      ],
      "metadata": {
        "colab": {
          "base_uri": "https://localhost:8080/"
        },
        "id": "IHY4v179GImQ",
        "outputId": "7cbcc1bc-85a9-45fe-fc81-8e6520c5cd75"
      },
      "execution_count": 19,
      "outputs": [
        {
          "output_type": "stream",
          "name": "stdout",
          "text": [
            "Masukkan bilangan N: 1234\n",
            "Bilangan 10 pangkat x terkecil yang lebih dari 1234 adalah: 10000\n"
          ]
        }
      ]
    },
    {
      "cell_type": "markdown",
      "source": [
        "INTERPRETASI:\n",
        "\n",
        "Fungsi cari_10pangkatx(n)\n",
        "Inisialisasi Variabel:\n",
        "\n",
        "x: Diinisialisasi dengan 0. Ini akan digunakan untuk menghitung pangkat 10.\n",
        "pangkat10: Diinisialisasi dengan 1 (10^0).\n",
        "Looping:\n",
        "\n",
        "Program memasuki loop while yang akan terus berjalan selama pangkat10 kurang dari atau sama dengan n.\n",
        "Dalam setiap iterasi:\n",
        "Nilai x akan bertambah 1.\n",
        "pangkat10 dihitung ulang sebagai 10 pangkat x (10^x).\n",
        "Loop ini berlanjut sampai pangkat10 menjadi lebih besar dari n.\n",
        "Return:\n",
        "\n",
        "Setelah loop selesai, fungsi akan mengembalikan nilai pangkat10, yang sekarang adalah bilangan 10 pangkat x terkecil yang lebih besar dari n.\n",
        "Input dan Output\n",
        "Input Pengguna:\n",
        "\n",
        "Program meminta pengguna untuk memasukkan suatu bilangan N.\n",
        "Pemanggilan Fungsi:\n",
        "\n",
        "Fungsi cari_10pangkatx dipanggil dengan N sebagai argumen, dan hasilnya disimpan dalam variabel hasil.\n",
        "Output:\n",
        "\n",
        "Program mencetak hasil, yang merupakan bilangan 10 pangkat x terkecil yang lebih besar dari N."
      ],
      "metadata": {
        "id": "Ddb8vTMHGuKG"
      }
    },
    {
      "cell_type": "markdown",
      "source": [
        "SOAL 2 Buatlah program yang menerima bilangan N dan membuat pola segitiga angka dengan dasar N"
      ],
      "metadata": {
        "id": "RbJjp2h6G6JD"
      }
    },
    {
      "cell_type": "code",
      "source": [
        "def buat_segitiga_angka(n):\n",
        "  for i in range(1, n + 1):\n",
        "    for j in range(i):\n",
        "      print(j + 1, end=\" \")\n",
        "    print()\n",
        "\n",
        "n = int(input(\"Masukkan bilangan N: \"))\n",
        "buat_segitiga_angka(n)"
      ],
      "metadata": {
        "colab": {
          "base_uri": "https://localhost:8080/"
        },
        "id": "NAGut6stHLZt",
        "outputId": "4b8dc3a1-9116-4f59-b1e6-3856dbc289ff"
      },
      "execution_count": 21,
      "outputs": [
        {
          "output_type": "stream",
          "name": "stdout",
          "text": [
            "Masukkan bilangan N: 5\n",
            "1 \n",
            "1 2 \n",
            "1 2 3 \n",
            "1 2 3 4 \n",
            "1 2 3 4 5 \n"
          ]
        }
      ]
    },
    {
      "cell_type": "markdown",
      "source": [
        "INTERPRETASI\n",
        "\n",
        "Fungsi buat_segitiga_angka(n)\n",
        "Input Pengguna:\n",
        "\n",
        "Program meminta pengguna untuk memasukkan bilangan N, yang menentukan tinggi segitiga angka.\n",
        "Looping untuk Membangun Segitiga:\n",
        "\n",
        "Fungsi buat_segitiga_angka melakukan iterasi menggunakan dua loop bersarang:\n",
        "Loop Pertama (for i in range(1, n + 1)):\n",
        "Loop ini mengontrol jumlah baris pada segitiga. Variabel i mulai dari 1 hingga N.\n",
        "\n",
        "Loop Kedua (for j in range(i)):\n",
        "Loop ini mencetak angka dari 1 hingga i untuk setiap baris.\n",
        "Untuk setiap iterasi i, loop ini akan mencetak angka dari 1 hingga i (dari j + 1).\n",
        "\n",
        "Pencetakan Angka:\n",
        "\n",
        "Di dalam loop kedua, angka dicetak dengan end=\" \" yang memastikan bahwa angka dicetak pada baris yang sama, dipisahkan oleh spasi.\n",
        "\n",
        "Setelah selesai mencetak angka untuk satu baris, print() tanpa argumen digunakan untuk pindah ke baris berikutnya."
      ],
      "metadata": {
        "id": "zYf1_QkqHl-6"
      }
    },
    {
      "cell_type": "markdown",
      "source": [
        "- Loop yang lebih baik: Dalam kasus soal 1, kita tidak perlu menggunakan loop karena kita dapat menghitung kelipatan 10 secara langsung dengan menggunakan operasi matematika. Ini lebih efisien dibandingkan dengan loop yang akan terus berulang sampai menemukan kelipatan yang tepat.\n",
        "\n",
        "- Loop yang lebih baik: Dalam kasus soal 2, kita menggunakan loop bersarang (nested loop) karena kita perlu mencetak pola yang melibatkan beberapa baris, di mana setiap baris memiliki jumlah angka yang berbeda. Loop luar mengatur jumlah baris, dan loop dalam mencetak angka untuk setiap baris.\n",
        "\n",
        "Perbedaan Karakteristik Loop\n",
        "\n",
        "- Loop Tanpa Iterasi (Program Kelipatan 10):\n",
        "\n",
        "Menggunakan operasi matematis langsung, sehingga lebih efisien.\n",
        "Tidak melibatkan iterasi berulang yang tidak perlu.\n",
        "Menghasilkan hasil dengan cepat karena hanya melakukan satu perhitungan.\n",
        "\n",
        "- Loop Bersarang (Program Segitiga Angka):\n",
        "\n",
        "Menggunakan loop bersarang untuk mengatasi masalah yang memerlukan pengulangan berulang berdasarkan kondisi yang berbeda (jumlah baris yang bervariasi).\n",
        "Cocok untuk membentuk pola atau struktur yang membutuhkan beberapa langkah iterasi.\n",
        "Mungkin lebih kompleks dan memerlukan lebih banyak waktu eksekusi tergantung pada nilai N.\n",
        "\n",
        "Dari kedua contoh tersebut, kita melihat bahwa pemilihan loop tergantung pada kebutuhan spesifik dari program. Untuk perhitungan langsung seperti mencari kelipatan, lebih baik menggunakan operasi matematika, sementara untuk pola atau struktur berulang, loop bersarang lebih sesuai."
      ],
      "metadata": {
        "id": "dDIrLitPIQsK"
      }
    },
    {
      "cell_type": "code",
      "source": [
        "N = int(input(\"Masukkan N: \"))\n",
        "\n",
        "i= N + 1\n",
        "while i % 7 != 0:\n",
        "    print(i)\n",
        "    i += 1\n",
        "\n",
        "    print(\"Output: \", i)"
      ],
      "metadata": {
        "colab": {
          "base_uri": "https://localhost:8080/"
        },
        "id": "Z8LMWkO9Zl1p",
        "outputId": "21510a85-fc28-4a14-a92c-bf17193ad5a8"
      },
      "execution_count": null,
      "outputs": [
        {
          "output_type": "stream",
          "name": "stdout",
          "text": [
            "Masukkan N: 9\n",
            "10\n",
            "Output:  11\n",
            "11\n",
            "Output:  12\n",
            "12\n",
            "Output:  13\n",
            "13\n",
            "Output:  14\n"
          ]
        }
      ]
    },
    {
      "cell_type": "code",
      "source": [
        "N = int(input(\"Masukkan N: \"))\n",
        "x = 0\n",
        "pangkat_10 = 1\n",
        "while pangkat_10 <= N:\n",
        "  x += 1\n",
        "  pangkat_10 = 10 ** x\n",
        "print(pangkat_10)"
      ],
      "metadata": {
        "colab": {
          "base_uri": "https://localhost:8080/"
        },
        "id": "p9UBFVZTX5tX",
        "outputId": "ae39c97b-b4ba-494a-f769-0c8608df20aa"
      },
      "execution_count": null,
      "outputs": [
        {
          "output_type": "stream",
          "name": "stdout",
          "text": [
            "Masukkan N: 4\n",
            "10\n"
          ]
        }
      ]
    },
    {
      "cell_type": "code",
      "source": [
        "N= int(input(\"Masukkan nilai N: \"))\n",
        "\n",
        "for i in range (1, N+1):\n",
        "  print('*' *i)"
      ],
      "metadata": {
        "id": "lIHRABwadGrH"
      },
      "execution_count": null,
      "outputs": []
    },
    {
      "cell_type": "code",
      "source": [
        "N = int(input(\"Masukkan nilai N: \"))\n",
        "for i in range(N, 0, -1):\n",
        "  for j in range(1, i+1):\n",
        "    print(j, end=\"\")\n",
        "  print()"
      ],
      "metadata": {
        "id": "0h4-ZUILdH7e"
      },
      "execution_count": null,
      "outputs": []
    },
    {
      "cell_type": "code",
      "source": [
        "N = int(input(\"Masukkan nilai N: \"))\n",
        "\n",
        "for x in range(1, N+1):\n",
        "  if x % 2 == 0 and x % 3 == 0:\n",
        "    print(\"DuaTiga\", end=\" \")\n",
        "  elif x % 2 == 0:\n",
        "    print(\"Dua\", end=\" \")\n",
        "  elif x % 3 == 0:\n",
        "    print(\"Tiga\", end=\" \")\n",
        "  else:\n",
        "    print(x, end=\" \")\n",
        "print()"
      ],
      "metadata": {
        "id": "U185Dch2dI5m"
      },
      "execution_count": null,
      "outputs": []
    },
    {
      "cell_type": "markdown",
      "source": [
        "Problem (1) Kalkulator Sederhana"
      ],
      "metadata": {
        "id": "nt7-fY7s9PgC"
      }
    },
    {
      "cell_type": "code",
      "source": [
        "#prompt: program kalkulator sederhana\n",
        "\n",
        "def kalkulator():\n",
        "  \"\"\"Fungsi untuk menjalankan kalkulator sederhana.\"\"\"\n",
        "  while True:\n",
        "    print(\"\\nPilih operasi:\")\n",
        "    print(\"1. Penjumlahan (+)\")\n",
        "    print(\"2. Pengurangan (-)\")\n",
        "    print(\"3. Perkalian (*)\")\n",
        "    print(\"4. Pembagian (/)\")\n",
        "    print(\"5. Keluar\")\n",
        "\n",
        "    pilihan = input(\"Masukkan pilihan Anda (1/2/3/4/5): \")\n",
        "\n",
        "    if pilihan == '5':\n",
        "      print(\"Terima kasih telah menggunakan kalkulator!\")\n",
        "      break\n",
        "\n",
        "    try:\n",
        "      bilangan1 = float(input(\"Masukkan bilangan pertama: \"))\n",
        "      bilangan2 = float(input(\"Masukkan bilangan kedua: \"))\n",
        "    except ValueError:\n",
        "      print(\"Masukan harus berupa angka.\")\n",
        "      continue\n",
        "\n",
        "    if pilihan == '1':\n",
        "      print(\"Hasil:\", bilangan1 + bilangan2)\n",
        "    elif pilihan == '2':\n",
        "      print(\"Hasil:\", bilangan1 - bilangan2)\n",
        "    elif pilihan == '3':\n",
        "      print(\"Hasil:\", bilangan1 * bilangan2)\n",
        "    elif pilihan == '4':\n",
        "      if bilangan2 == 0:\n",
        "        print(\"Tidak dapat membagi dengan nol.\")\n",
        "      else:\n",
        "        print(\"Hasil:\", bilangan1 / bilangan2)\n",
        "    else:\n",
        "      print(\"Pilihan tidak valid.\")\n",
        "\n",
        "if __name__ == \"__main__\":\n",
        "  kalkulator()"
      ],
      "metadata": {
        "id": "qHnQSaMJNtbk",
        "outputId": "93742900-0efc-4ec5-a1ef-8b5fd9f7b53f",
        "colab": {
          "base_uri": "https://localhost:8080/"
        }
      },
      "execution_count": 1,
      "outputs": [
        {
          "output_type": "stream",
          "name": "stdout",
          "text": [
            "\n",
            "Pilih operasi:\n",
            "1. Penjumlahan (+)\n",
            "2. Pengurangan (-)\n",
            "3. Perkalian (*)\n",
            "4. Pembagian (/)\n",
            "5. Keluar\n",
            "Masukkan pilihan Anda (1/2/3/4/5): 1\n",
            "Masukkan bilangan pertama: 2\n",
            "Masukkan bilangan kedua: 2\n",
            "Hasil: 4.0\n",
            "\n",
            "Pilih operasi:\n",
            "1. Penjumlahan (+)\n",
            "2. Pengurangan (-)\n",
            "3. Perkalian (*)\n",
            "4. Pembagian (/)\n",
            "5. Keluar\n",
            "Masukkan pilihan Anda (1/2/3/4/5): 5\n",
            "Terima kasih telah menggunakan kalkulator!\n"
          ]
        }
      ]
    },
    {
      "cell_type": "markdown",
      "source": [
        "- Interpretasi coding:\n",
        "\n",
        "- Interpretasi Hasil:"
      ],
      "metadata": {
        "id": "Wou8YKfJ9lvY"
      }
    },
    {
      "cell_type": "markdown",
      "source": [
        "Problem (2) Bilangan Ganjil"
      ],
      "metadata": {
        "id": "Eucg6DUK9fgA"
      }
    },
    {
      "cell_type": "code",
      "source": [
        "#prompt: program bilangan ganjil\n",
        "\n",
        "def bilangan_ganjil():\n",
        "\n",
        "  print(\"Bilangan ganjil dari 1 sampai 20:\")\n",
        "  for i in range(1, 21):\n",
        "    if i % 2 != 0:\n",
        "      print(i)\n",
        "\n",
        "if __name__ == \"__main__\":\n",
        "  bilangan_ganjil()"
      ],
      "metadata": {
        "id": "9uWMEZpP9hlB",
        "outputId": "560498d5-24f4-42bf-bcc8-68f4ce52732b",
        "colab": {
          "base_uri": "https://localhost:8080/"
        }
      },
      "execution_count": null,
      "outputs": [
        {
          "output_type": "stream",
          "name": "stdout",
          "text": [
            "Bilangan ganjil dari 1 sampai 20:\n",
            "1\n",
            "3\n",
            "5\n",
            "7\n",
            "9\n",
            "11\n",
            "13\n",
            "15\n",
            "17\n",
            "19\n"
          ]
        }
      ]
    },
    {
      "cell_type": "markdown",
      "source": [
        "- Interpretasi coding:\n",
        "\n",
        "- Interpretasi Hasil:"
      ],
      "metadata": {
        "id": "fM9Fo97_93Ni"
      }
    },
    {
      "cell_type": "markdown",
      "source": [
        "#🏆 POST TEST 🎯"
      ],
      "metadata": {
        "id": "J_75vTSXKFGE"
      }
    },
    {
      "cell_type": "markdown",
      "source": [
        "Problem (1)\n",
        "Terdapat N buah angka dari 1 hingga N. Jika x merupakan kelipatan dari A maka keluarkan ”Siap”. Jika x merupakan kelipatan dari B maka keluarkan ”Bang”. Jika x merupakan kelipatan dari C maka keluarkan ”Jago”. Jika x bukan merupakan keliatan dari semuanya, maka tampilkan angkanya saja.\n",
        "\n",
        "Catatan: Kata Siap, Bang dan Jago dapat muncul pada saat yang bersamaan. Untuk lebih jelasnya, perhatikan Test Case.\n"
      ],
      "metadata": {
        "id": "twhHfrqiKSfV"
      }
    },
    {
      "cell_type": "code",
      "source": [
        "  n = int(input(\"Masukkan N: \"))\n",
        "  a = int(input(\"Masukkan A: \"))\n",
        "  b = int(input(\"Masukkan B: \"))\n",
        "  c = int(input(\"Masukkan C: \"))\n",
        "\n",
        "  for x in range(1, n + 1):\n",
        "    output = \"\"\n",
        "    if x % a == 0:\n",
        "      output += \"Siap\"\n",
        "    if x % b == 0:\n",
        "      output += \"Bang\"\n",
        "    if x % c == 0:\n",
        "      output += \"Jago\"\n",
        "\n",
        "    if output == \"\":\n",
        "      print(x)\n",
        "    else:\n",
        "      print(output)"
      ],
      "metadata": {
        "id": "hOI8Gls9KV05",
        "colab": {
          "base_uri": "https://localhost:8080/"
        },
        "outputId": "16ca275b-e727-4bc7-8924-78019a2010ce"
      },
      "execution_count": 13,
      "outputs": [
        {
          "output_type": "stream",
          "name": "stdout",
          "text": [
            "Masukkan N: 5\n",
            "Masukkan A: 1\n",
            "Masukkan B: 1\n",
            "Masukkan C: 1\n",
            "SiapBangJago\n",
            "SiapBangJago\n",
            "SiapBangJago\n",
            "SiapBangJago\n",
            "SiapBangJago\n"
          ]
        }
      ]
    },
    {
      "cell_type": "code",
      "source": [
        "  n = int(input(\"Masukkan N: \"))\n",
        "  a = int(input(\"Masukkan A: \"))\n",
        "  b = int(input(\"Masukkan B: \"))\n",
        "  c = int(input(\"Masukkan C: \"))\n",
        "\n",
        "  for x in range(1, n + 1):\n",
        "    output = \"\"\n",
        "    if x % a == 0:\n",
        "      output += \"Siap\"\n",
        "    if x % b == 0:\n",
        "      output += \"Bang\"\n",
        "    if x % c == 0:\n",
        "      output += \"Jago\"\n",
        "\n",
        "    if output == \"\":\n",
        "      print(x)\n",
        "    else:\n",
        "      print(output)"
      ],
      "metadata": {
        "colab": {
          "base_uri": "https://localhost:8080/"
        },
        "id": "SkGmUj8GE4UW",
        "outputId": "e133b5c4-a0d2-4592-c59e-1d640bc6f1fb"
      },
      "execution_count": 14,
      "outputs": [
        {
          "output_type": "stream",
          "name": "stdout",
          "text": [
            "Masukkan N: 5\n",
            "Masukkan A: 1\n",
            "Masukkan B: 1\n",
            "Masukkan C: 1\n",
            "SiapBangJago\n",
            "SiapBangJago\n",
            "SiapBangJago\n",
            "SiapBangJago\n",
            "SiapBangJago\n"
          ]
        }
      ]
    },
    {
      "cell_type": "markdown",
      "source": [
        "INTERPRETASI CODING\n",
        "\n",
        "a. Input Pengguna:\n",
        "\n",
        "Program meminta pengguna untuk memasukkan empat angka: N, A, B, dan C.\n",
        "N: batas atas dari iterasi (jumlah angka yang akan diperiksa).\n",
        "\n",
        "A, B, C: angka yang digunakan untuk menentukan apakah angka dalam rentang tersebut dapat dibagi tanpa sisa.\n",
        "\n",
        "b. Looping:\n",
        "\n",
        "Program melakukan iterasi dari 1 hingga N (inklusif). Setiap angka dalam rentang ini diperiksa untuk memenuhi kondisi tertentu.\n",
        "\n",
        "c. Kondisi Pembagian:\n",
        "\n",
        "Untuk setiap angka x:\n",
        "Jika x dapat dibagi oleh A, maka string \"Siap\" ditambahkan ke variabel output.\n",
        "\n",
        "Jika x dapat dibagi oleh B, maka string \"Bang\" ditambahkan ke variabel output.\n",
        "\n",
        "Jika x dapat dibagi oleh C, maka string \"Jago\" ditambahkan ke variabel output.\n",
        "\n",
        "d. Output:\n",
        "\n",
        "Jika output tetap kosong (artinya x tidak dapat dibagi oleh A, B, atau C), program akan mencetak angka x itu sendiri.\n",
        "\n",
        "Jika output tidak kosong, program akan mencetak string yang telah dibentuk berdasarkan kondisi pembagian."
      ],
      "metadata": {
        "id": "t9x---59KWVI"
      }
    },
    {
      "cell_type": "markdown",
      "source": [
        "📌Catatan:\n",
        "  - Notebook python ini dibuat untuk memudahkan temen-temen belajar ngoding dan pengumpulan tugas.\n",
        "  - Silakan download notebook ini lalu upload di Google Collab milik kalian agar format `pertemuan`, `topik pertemuan`,\n",
        "`tanggal`, `deskripsi pembahasan materi`, `baris coding` dan `interpretasi` bisa disesuaikan dengan kebutuhan teman-teman.\n",
        "\n",
        "  - Interpretasi coding dan hasil dimaksudkan agar teman-teman semakin memahami apa yang dipelajari.\n",
        "\n",
        "  - Deskripsi pembahasan materi dimaksudkan agar teman-teman semakin memahami apa fokus yang dipelajari.\n",
        "\n",
        "  - Tulisan di setiap sebelum baris code disebut `markdown`. Ada beberapa jenis simbol yang memudahkan kepenulisan `markdown` kita, yaitu seperti : untuk mengatur ukuran tulisan biasanya tulisan pada header menggunakan ini`#`, `##`, `###`, untuk membuat pointer menggunakan ini `-`, untuk membuat tulisan ter-highlight menggunakan ini *` `* , untuk short-cut membuat tulisan jadi **bold** gunakan ini `** **`, dan untuk *tulisan miring* gunakan ini `* *` .\n",
        "\n",
        "  - Semangat belajar! 🌟✨\n",
        "\n",
        "©️ LABORATORIUM SAINS DATA 2024"
      ],
      "metadata": {
        "id": "D-tRQnbQK69l"
      }
    }
  ]
}