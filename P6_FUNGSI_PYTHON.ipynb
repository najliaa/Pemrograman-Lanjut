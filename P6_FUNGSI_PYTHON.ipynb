{
  "nbformat": 4,
  "nbformat_minor": 0,
  "metadata": {
    "colab": {
      "provenance": [],
      "authorship_tag": "ABX9TyPNC8D0eEznbDBWZYd2L2m3",
      "include_colab_link": true
    },
    "kernelspec": {
      "name": "python3",
      "display_name": "Python 3"
    },
    "language_info": {
      "name": "python"
    }
  },
  "cells": [
    {
      "cell_type": "markdown",
      "metadata": {
        "id": "view-in-github",
        "colab_type": "text"
      },
      "source": [
        "<a href=\"https://colab.research.google.com/github/najliaa/Pemrograman-Lanjut/blob/main/P6_FUNGSI_PYTHON.ipynb\" target=\"_parent\"><img src=\"https://colab.research.google.com/assets/colab-badge.svg\" alt=\"Open In Colab\"/></a>"
      ]
    },
    {
      "cell_type": "markdown",
      "source": [
        "#**🖥️👩🏻‍💻PRAKTIKUM PEMROGRAMAN LANJUT🔥**\n",
        "##**Pertemuan (6) FUNGSI - Senin, 16 Desember 2024**\n",
        "\n",
        "👤 Nama: Najlia Intani / NRP: 2C2230010 / Kelas: III/A Sains Data"
      ],
      "metadata": {
        "id": "FItssqySvtOQ"
      }
    },
    {
      "cell_type": "markdown",
      "source": [
        "FUNGSI KUADRAT"
      ],
      "metadata": {
        "id": "iCH44rgtwScX"
      }
    },
    {
      "cell_type": "code",
      "execution_count": null,
      "metadata": {
        "id": "DTUs0GFWvsES"
      },
      "outputs": [],
      "source": [
        "def kuadrat(x):\n",
        "    x2 = x * x\n",
        "    return x2\n"
      ]
    },
    {
      "cell_type": "code",
      "source": [
        "def kuadrat(x):\n",
        "    x2 = x * x\n",
        "    return x2\n",
        "\n",
        "n = int(input())\n",
        "n2 = kuadrat(n)\n",
        "print(n2)\n"
      ],
      "metadata": {
        "colab": {
          "base_uri": "https://localhost:8080/"
        },
        "id": "ZTTyPKlDwKd3",
        "outputId": "70d6331e-074b-4cd0-c7b2-38d3c5d7bcf0"
      },
      "execution_count": null,
      "outputs": [
        {
          "output_type": "stream",
          "name": "stdout",
          "text": [
            "2\n",
            "4\n"
          ]
        }
      ]
    },
    {
      "cell_type": "markdown",
      "source": [
        "FUNGSI HITUNG NILAI A^B"
      ],
      "metadata": {
        "id": "puLueiyKwW_P"
      }
    },
    {
      "cell_type": "code",
      "source": [
        "def pangkat(a, b):  # Asumsi b >= 0\n",
        "    c = 1\n",
        "    for i in range(b):\n",
        "        c *= a\n",
        "    return c\n"
      ],
      "metadata": {
        "id": "ckIsuI7iwPkP"
      },
      "execution_count": null,
      "outputs": []
    },
    {
      "cell_type": "markdown",
      "source": [
        "PROSEDUR"
      ],
      "metadata": {
        "id": "UYat0xwcwbOH"
      }
    },
    {
      "cell_type": "code",
      "source": [
        "print(\"Menu: \")\n",
        "print(\"1. Burger\")\n",
        "print(\"2. Ayam Geprek\")\n",
        "print(\"3. Mie Instan\")\n",
        "print(\"Masukkan pilihan: \")\n",
        "pilihan_makanan = int(input())\n",
        "\n",
        "# Pengulangan untuk menu minuman dan tambahan\n"
      ],
      "metadata": {
        "colab": {
          "base_uri": "https://localhost:8080/"
        },
        "id": "f0Q9iJYSwdQm",
        "outputId": "5484df7f-6ef0-49f6-8fcb-932722d1e861"
      },
      "execution_count": null,
      "outputs": [
        {
          "name": "stdout",
          "output_type": "stream",
          "text": [
            "Menu: \n",
            "1. Burger\n",
            "2. Ayam Geprek\n",
            "3. Mie Instan\n",
            "Masukkan pilihan: \n",
            "2\n"
          ]
        }
      ]
    },
    {
      "cell_type": "code",
      "source": [
        "def tulis_menu(pil1, pil2, pil3):\n",
        "    print(\"Menu:\")\n",
        "    print(\"1. \" + str(pil1))\n",
        "    print(\"2. \" + str(pil2))\n",
        "    print(\"3. \" + str(pil3))\n",
        "    print(\"Masukkan pilihan: \")\n",
        "\n",
        "tulis_menu(\"Burger\", \"Ayam Geprek\", \"Mie Instan\")\n",
        "pilihan_makanan = int(input())\n",
        "\n",
        "tulis_menu(\"Jus Alpukat\", \"Thai Tea\", \"Teh Tarik\")\n",
        "pilihan_minuman = int(input())\n",
        "\n",
        "tulis_menu(\"Kentang\", \"Krupuk\", \"Abon\")\n",
        "pilihan_tambahan = int(input())"
      ],
      "metadata": {
        "colab": {
          "base_uri": "https://localhost:8080/"
        },
        "id": "MCeAPisjwm7G",
        "outputId": "5f537600-f3af-4d91-8a5c-e28d003c2ab9"
      },
      "execution_count": null,
      "outputs": [
        {
          "name": "stdout",
          "output_type": "stream",
          "text": [
            "Menu:\n",
            "1. Burger\n",
            "2. Ayam Geprek\n",
            "3. Mie Instan\n",
            "Masukkan pilihan: \n",
            "2\n",
            "Menu:\n",
            "1. Jus Alpukat\n",
            "2. Thai Tea\n",
            "3. Teh Tarik\n",
            "Masukkan pilihan: \n",
            "2\n",
            "Menu:\n",
            "1. Kentang\n",
            "2. Krupuk\n",
            "3. Abon\n",
            "Masukkan pilihan: \n",
            "1\n"
          ]
        }
      ]
    },
    {
      "cell_type": "markdown",
      "source": [
        "**LATIHAN**"
      ],
      "metadata": {
        "id": "kqVxv4A6wxHX"
      }
    },
    {
      "cell_type": "code",
      "source": [
        "#SOAL 1\n",
        "A = int(input(\"Masukkan nilai A: \"))\n",
        "B = int(input(\"Masukkan nilai B: \"))\n",
        "for x in range(A, A+1, B):\n",
        "  print(x**2 - 2*x +5)"
      ],
      "metadata": {
        "colab": {
          "base_uri": "https://localhost:8080/"
        },
        "id": "q8s3_8Dcwy43",
        "outputId": "05df1235-2b5e-43f2-e29e-5a25befb850c"
      },
      "execution_count": null,
      "outputs": [
        {
          "output_type": "stream",
          "name": "stdout",
          "text": [
            "Masukkan nilai A: 3\n",
            "Masukkan nilai B: 6\n",
            "8\n"
          ]
        }
      ]
    },
    {
      "cell_type": "code",
      "source": [
        "#SOAL 2\n",
        "sandi = input(\"Masukkan sandi anda: \")\n",
        "def validasi_sandi(sandi):\n",
        "  if len(sandi) < 8:\n",
        "    print (\"sandi harus minimal 8 karakter\")\n",
        "  elif not any(char.isupper() for char in sandi):\n",
        "    print (\"sandi harus mengandung huruf kapital\")\n",
        "    if not any(char.isdigit() for char in sandi):\n",
        "      print (\"sandi harus mengandung minimal satu angka\")\n",
        "  else:\n",
        "    print (\"sandi valid\")\n",
        "validasi_sandi(sandi)"
      ],
      "metadata": {
        "colab": {
          "base_uri": "https://localhost:8080/"
        },
        "id": "o7h9Lrwd19-o",
        "outputId": "4cddf1a1-ae66-4e6b-83fa-df07327c29e7"
      },
      "execution_count": null,
      "outputs": [
        {
          "output_type": "stream",
          "name": "stdout",
          "text": [
            "Masukkan sandi anda: najliacute\n",
            "sandi harus mengandung huruf kapital\n",
            "sandi harus mengandung minimal satu angka\n"
          ]
        }
      ]
    },
    {
      "cell_type": "code",
      "source": [
        "#SOAL 3\n",
        "def determinant_2x2(matrix):\n",
        "    if len(matrix) != 2 or len(matrix[0]) != 2 or len(matrix[1]) != 2:\n",
        "        raise ValueError(\"Input harus berupa matriks 2x2.\")\n",
        "    a, b = matrix[0]\n",
        "    c, d = matrix[1]\n",
        "    return a * d - b * c\n",
        "print(\"Masukkan elemen matriks 2x2 kamu:\")\n",
        "a = int(input(\"Masukkan elemen a (baris 1 kolom 1): \"))\n",
        "b = int(input(\"Masukkan elemen b (baris 1 kolom 2): \"))\n",
        "c = int(input(\"Masukkan elemen c (baris 2 kolom 1): \"))\n",
        "d = int(input(\"Masukkan elemen d (baris 2 kolom 2): \"))\n",
        "matrix = [[a, b], [c, d]]\n",
        "determinant = determinant_2x2(matrix)\n",
        "print(\"Determinan matriks 2x2 adalah\", determinant)"
      ],
      "metadata": {
        "colab": {
          "base_uri": "https://localhost:8080/"
        },
        "id": "MxAofEtmFEED",
        "outputId": "7f07e65a-3628-44e7-a736-9d099f33d2bd"
      },
      "execution_count": 12,
      "outputs": [
        {
          "output_type": "stream",
          "name": "stdout",
          "text": [
            "Masukkan elemen matriks 2x2 kamu:\n",
            "Masukkan elemen a (baris 1 kolom 1): 1\n",
            "Masukkan elemen b (baris 1 kolom 2): 2\n",
            "Masukkan elemen c (baris 2 kolom 1): 3\n",
            "Masukkan elemen d (baris 2 kolom 2): 2\n",
            "Determinan matriks 2x2 adalah -4\n"
          ]
        }
      ]
    }
  ]
}