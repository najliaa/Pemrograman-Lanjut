{
 "cells": [
  {
   "cell_type": "markdown",
   "metadata": {},
   "source": [
    "Eksplorasi Di Kelas"
   ]
  },
  {
   "cell_type": "code",
   "execution_count": 1,
   "metadata": {},
   "outputs": [
    {
     "name": "stdout",
     "output_type": "stream",
     "text": [
      "Requirement already satisfied: pandas in c:\\users\\hp\\appdata\\local\\programs\\python\\python313\\lib\\site-packages (2.2.3)\n",
      "Requirement already satisfied: numpy>=1.26.0 in c:\\users\\hp\\appdata\\local\\programs\\python\\python313\\lib\\site-packages (from pandas) (2.2.1)\n",
      "Requirement already satisfied: python-dateutil>=2.8.2 in c:\\users\\hp\\appdata\\roaming\\python\\python313\\site-packages (from pandas) (2.9.0.post0)\n",
      "Requirement already satisfied: pytz>=2020.1 in c:\\users\\hp\\appdata\\local\\programs\\python\\python313\\lib\\site-packages (from pandas) (2024.2)\n",
      "Requirement already satisfied: tzdata>=2022.7 in c:\\users\\hp\\appdata\\local\\programs\\python\\python313\\lib\\site-packages (from pandas) (2024.2)\n",
      "Requirement already satisfied: six>=1.5 in c:\\users\\hp\\appdata\\roaming\\python\\python313\\site-packages (from python-dateutil>=2.8.2->pandas) (1.17.0)\n"
     ]
    },
    {
     "name": "stderr",
     "output_type": "stream",
     "text": [
      "\n",
      "[notice] A new release of pip is available: 24.2 -> 24.3.1\n",
      "[notice] To update, run: python.exe -m pip install --upgrade pip\n"
     ]
    }
   ],
   "source": [
    "!pip install pandas"
   ]
  },
  {
   "cell_type": "code",
   "execution_count": 2,
   "metadata": {},
   "outputs": [],
   "source": [
    "import pandas as pd"
   ]
  },
  {
   "cell_type": "code",
   "execution_count": 3,
   "metadata": {},
   "outputs": [
    {
     "name": "stdout",
     "output_type": "stream",
     "text": [
      "   Tahun           Cakupan  Tingkat_Inflasi\n",
      "0   2008      Kota Bandung            10.23\n",
      "1   2009  Prov. Jawa Barat             2.02\n",
      "2   2010          Nasional             4.53\n"
     ]
    }
   ],
   "source": [
    "data = {\n",
    "    'Tahun': [2008, 2009, 2010],\n",
    "    'Cakupan': ['Kota Bandung', 'Prov. Jawa Barat', 'Nasional'],\n",
    "    'Tingkat_Inflasi': [10.23, 2.02, 4.53]\n",
    "}\n",
    "\n",
    "df = pd.DataFrame(data)\n",
    "print(df)\n"
   ]
  },
  {
   "cell_type": "markdown",
   "metadata": {},
   "source": [
    "Filter Data"
   ]
  },
  {
   "cell_type": "code",
   "execution_count": 4,
   "metadata": {},
   "outputs": [
    {
     "name": "stdout",
     "output_type": "stream",
     "text": [
      "   Tahun       Cakupan  Tingkat_Inflasi\n",
      "0   2008  Kota Bandung            10.23\n"
     ]
    }
   ],
   "source": [
    "filtered_data = df[df['Cakupan'] == 'Kota Bandung']\n",
    "print(filtered_data)"
   ]
  },
  {
   "cell_type": "markdown",
   "metadata": {},
   "source": [
    "Mengubah Format ke CSV"
   ]
  },
  {
   "cell_type": "code",
   "execution_count": 5,
   "metadata": {},
   "outputs": [],
   "source": [
    "df.to_csv('output.csv', index=False)"
   ]
  },
  {
   "cell_type": "markdown",
   "metadata": {},
   "source": [
    "Mencari Nilai Tertinggi"
   ]
  },
  {
   "cell_type": "code",
   "execution_count": 6,
   "metadata": {},
   "outputs": [
    {
     "name": "stdout",
     "output_type": "stream",
     "text": [
      "10.23\n",
      "2.02\n"
     ]
    }
   ],
   "source": [
    "max_inflasi = df['Tingkat_Inflasi'].max()\n",
    "min_inflasi = df['Tingkat_Inflasi'].min()\n",
    "\n",
    "print(max_inflasi)\n",
    "print(min_inflasi)"
   ]
  },
  {
   "cell_type": "markdown",
   "metadata": {},
   "source": [
    "Mengurutkan Tingkatan dari Kecil Ke Besar"
   ]
  },
  {
   "cell_type": "code",
   "execution_count": 7,
   "metadata": {},
   "outputs": [
    {
     "name": "stdout",
     "output_type": "stream",
     "text": [
      "   Tahun           Cakupan  Tingkat_Inflasi\n",
      "1   2009  Prov. Jawa Barat             2.02\n",
      "2   2010          Nasional             4.53\n",
      "0   2008      Kota Bandung            10.23\n"
     ]
    }
   ],
   "source": [
    "df_sorted = df.sort_values(by='Tingkat_Inflasi', ascending=True)\n",
    "print(df_sorted)"
   ]
  },
  {
   "cell_type": "markdown",
   "metadata": {},
   "source": [
    "Mengurutkan Tingkatan dari Besar Ke Kecil"
   ]
  },
  {
   "cell_type": "code",
   "execution_count": 8,
   "metadata": {},
   "outputs": [
    {
     "name": "stdout",
     "output_type": "stream",
     "text": [
      "   Tahun           Cakupan  Tingkat_Inflasi\n",
      "0   2008      Kota Bandung            10.23\n",
      "2   2010          Nasional             4.53\n",
      "1   2009  Prov. Jawa Barat             2.02\n"
     ]
    }
   ],
   "source": [
    "df_sorted = df.sort_values(by='Tingkat_Inflasi', ascending=False)\n",
    "print(df_sorted)"
   ]
  },
  {
   "cell_type": "code",
   "execution_count": 9,
   "metadata": {},
   "outputs": [
    {
     "name": "stdout",
     "output_type": "stream",
     "text": [
      "Tahun\n",
      "2008    1\n",
      "2009    1\n",
      "2010    1\n",
      "Name: count, dtype: int64\n"
     ]
    }
   ],
   "source": [
    "frequency_table = df['Tahun'].value_counts()\n",
    "print(frequency_table)\n"
   ]
  },
  {
   "cell_type": "code",
   "execution_count": 10,
   "metadata": {},
   "outputs": [
    {
     "name": "stdout",
     "output_type": "stream",
     "text": [
      "8.21\n"
     ]
    }
   ],
   "source": [
    "range_inflasi = df['Tingkat_Inflasi'].max() - df['Tingkat_Inflasi'].min()\n",
    "print(range_inflasi)"
   ]
  },
  {
   "cell_type": "code",
   "execution_count": 11,
   "metadata": {},
   "outputs": [
    {
     "name": "stdout",
     "output_type": "stream",
     "text": [
      "        Tahun  Tingkat_Inflasi\n",
      "count     3.0         3.000000\n",
      "mean   2009.0         5.593333\n",
      "std       1.0         4.207022\n",
      "min    2008.0         2.020000\n",
      "25%    2008.5         3.275000\n",
      "50%    2009.0         4.530000\n",
      "75%    2009.5         7.380000\n",
      "max    2010.0        10.230000\n"
     ]
    }
   ],
   "source": [
    "statistics = df.describe()\n",
    "print(statistics)\n"
   ]
  },
  {
   "cell_type": "code",
   "execution_count": 12,
   "metadata": {},
   "outputs": [
    {
     "name": "stdout",
     "output_type": "stream",
     "text": [
      "-0.6774388302247065\n"
     ]
    }
   ],
   "source": [
    "correlation = df['Tingkat_Inflasi'].corr(df['Tahun'])\n",
    "print(correlation)\n"
   ]
  },
  {
   "cell_type": "markdown",
   "metadata": {},
   "source": [
    "==================================================================================================="
   ]
  },
  {
   "cell_type": "markdown",
   "metadata": {},
   "source": [
    "Latihan Soal (Problem 1)"
   ]
  },
  {
   "cell_type": "code",
   "execution_count": 13,
   "metadata": {},
   "outputs": [
    {
     "data": {
      "text/html": [
       "<div>\n",
       "<style scoped>\n",
       "    .dataframe tbody tr th:only-of-type {\n",
       "        vertical-align: middle;\n",
       "    }\n",
       "\n",
       "    .dataframe tbody tr th {\n",
       "        vertical-align: top;\n",
       "    }\n",
       "\n",
       "    .dataframe thead th {\n",
       "        text-align: right;\n",
       "    }\n",
       "</style>\n",
       "<table border=\"1\" class=\"dataframe\">\n",
       "  <thead>\n",
       "    <tr style=\"text-align: right;\">\n",
       "      <th></th>\n",
       "      <th>nama</th>\n",
       "      <th>fakultas</th>\n",
       "      <th>nilai_mat</th>\n",
       "      <th>nilai_kim</th>\n",
       "      <th>nilai_fis</th>\n",
       "    </tr>\n",
       "  </thead>\n",
       "  <tbody>\n",
       "    <tr>\n",
       "      <th>0</th>\n",
       "      <td>Farhan Fathur Rahman</td>\n",
       "      <td>FMIPA</td>\n",
       "      <td>57.21</td>\n",
       "      <td>34.14</td>\n",
       "      <td>38.93</td>\n",
       "    </tr>\n",
       "    <tr>\n",
       "      <th>1</th>\n",
       "      <td>Steven Margono</td>\n",
       "      <td>FMIPA</td>\n",
       "      <td>67.43</td>\n",
       "      <td>51.50</td>\n",
       "      <td>57.20</td>\n",
       "    </tr>\n",
       "    <tr>\n",
       "      <th>2</th>\n",
       "      <td>Ryan Sentosa</td>\n",
       "      <td>SAPPK</td>\n",
       "      <td>90.62</td>\n",
       "      <td>37.38</td>\n",
       "      <td>40.73</td>\n",
       "    </tr>\n",
       "    <tr>\n",
       "      <th>3</th>\n",
       "      <td>Muhajah Babny Muslim</td>\n",
       "      <td>FMIPA</td>\n",
       "      <td>72.31</td>\n",
       "      <td>38.80</td>\n",
       "      <td>44.79</td>\n",
       "    </tr>\n",
       "    <tr>\n",
       "      <th>4</th>\n",
       "      <td>Alvin Natawiguna</td>\n",
       "      <td>FTSL</td>\n",
       "      <td>65.45</td>\n",
       "      <td>57.67</td>\n",
       "      <td>56.39</td>\n",
       "    </tr>\n",
       "    <tr>\n",
       "      <th>...</th>\n",
       "      <td>...</td>\n",
       "      <td>...</td>\n",
       "      <td>...</td>\n",
       "      <td>...</td>\n",
       "      <td>...</td>\n",
       "    </tr>\n",
       "    <tr>\n",
       "      <th>5130</th>\n",
       "      <td>Khoirrashif</td>\n",
       "      <td>SITHR</td>\n",
       "      <td>66.14</td>\n",
       "      <td>46.82</td>\n",
       "      <td>56.74</td>\n",
       "    </tr>\n",
       "    <tr>\n",
       "      <th>5131</th>\n",
       "      <td>Jefri Hendri Adriano</td>\n",
       "      <td>FTSL</td>\n",
       "      <td>53.68</td>\n",
       "      <td>34.74</td>\n",
       "      <td>33.76</td>\n",
       "    </tr>\n",
       "    <tr>\n",
       "      <th>5132</th>\n",
       "      <td>Iki Hidayat</td>\n",
       "      <td>FITB</td>\n",
       "      <td>69.63</td>\n",
       "      <td>35.04</td>\n",
       "      <td>37.65</td>\n",
       "    </tr>\n",
       "    <tr>\n",
       "      <th>5133</th>\n",
       "      <td>Muhammad Nashir Sitompul</td>\n",
       "      <td>FTI</td>\n",
       "      <td>79.69</td>\n",
       "      <td>39.06</td>\n",
       "      <td>50.17</td>\n",
       "    </tr>\n",
       "    <tr>\n",
       "      <th>5134</th>\n",
       "      <td>Billy Richardo Sagala</td>\n",
       "      <td>STEI</td>\n",
       "      <td>68.68</td>\n",
       "      <td>51.23</td>\n",
       "      <td>66.18</td>\n",
       "    </tr>\n",
       "  </tbody>\n",
       "</table>\n",
       "<p>5135 rows × 5 columns</p>\n",
       "</div>"
      ],
      "text/plain": [
       "                          nama fakultas  nilai_mat  nilai_kim  nilai_fis\n",
       "0         Farhan Fathur Rahman    FMIPA      57.21      34.14      38.93\n",
       "1               Steven Margono    FMIPA      67.43      51.50      57.20\n",
       "2                 Ryan Sentosa    SAPPK      90.62      37.38      40.73\n",
       "3         Muhajah Babny Muslim    FMIPA      72.31      38.80      44.79\n",
       "4             Alvin Natawiguna     FTSL      65.45      57.67      56.39\n",
       "...                        ...      ...        ...        ...        ...\n",
       "5130               Khoirrashif    SITHR      66.14      46.82      56.74\n",
       "5131      Jefri Hendri Adriano     FTSL      53.68      34.74      33.76\n",
       "5132               Iki Hidayat     FITB      69.63      35.04      37.65\n",
       "5133  Muhammad Nashir Sitompul      FTI      79.69      39.06      50.17\n",
       "5134     Billy Richardo Sagala     STEI      68.68      51.23      66.18\n",
       "\n",
       "[5135 rows x 5 columns]"
      ]
     },
     "execution_count": 13,
     "metadata": {},
     "output_type": "execute_result"
    }
   ],
   "source": [
    "df = pd.read_csv(\"C:/Users/hp/Downloads/data cute.csv\")\n",
    "df"
   ]
  },
  {
   "cell_type": "markdown",
   "metadata": {},
   "source": [
    "1. Menghitung Banyaknya Data"
   ]
  },
  {
   "cell_type": "code",
   "execution_count": 14,
   "metadata": {},
   "outputs": [
    {
     "name": "stdout",
     "output_type": "stream",
     "text": [
      "<class 'pandas.core.frame.DataFrame'>\n",
      "RangeIndex: 5135 entries, 0 to 5134\n",
      "Data columns (total 5 columns):\n",
      " #   Column     Non-Null Count  Dtype  \n",
      "---  ------     --------------  -----  \n",
      " 0   nama       5135 non-null   object \n",
      " 1   fakultas   5135 non-null   object \n",
      " 2   nilai_mat  5135 non-null   float64\n",
      " 3   nilai_kim  5135 non-null   float64\n",
      " 4   nilai_fis  5135 non-null   float64\n",
      "dtypes: float64(3), object(2)\n",
      "memory usage: 200.7+ KB\n"
     ]
    }
   ],
   "source": [
    "df.info()"
   ]
  },
  {
   "cell_type": "markdown",
   "metadata": {},
   "source": [
    "2. Menampilkan 10 Data Pertama"
   ]
  },
  {
   "cell_type": "code",
   "execution_count": 16,
   "metadata": {},
   "outputs": [
    {
     "data": {
      "text/html": [
       "<div>\n",
       "<style scoped>\n",
       "    .dataframe tbody tr th:only-of-type {\n",
       "        vertical-align: middle;\n",
       "    }\n",
       "\n",
       "    .dataframe tbody tr th {\n",
       "        vertical-align: top;\n",
       "    }\n",
       "\n",
       "    .dataframe thead th {\n",
       "        text-align: right;\n",
       "    }\n",
       "</style>\n",
       "<table border=\"1\" class=\"dataframe\">\n",
       "  <thead>\n",
       "    <tr style=\"text-align: right;\">\n",
       "      <th></th>\n",
       "      <th>nama</th>\n",
       "      <th>fakultas</th>\n",
       "      <th>nilai_mat</th>\n",
       "      <th>nilai_kim</th>\n",
       "      <th>nilai_fis</th>\n",
       "    </tr>\n",
       "  </thead>\n",
       "  <tbody>\n",
       "    <tr>\n",
       "      <th>0</th>\n",
       "      <td>Farhan Fathur Rahman</td>\n",
       "      <td>FMIPA</td>\n",
       "      <td>57.21</td>\n",
       "      <td>34.14</td>\n",
       "      <td>38.93</td>\n",
       "    </tr>\n",
       "    <tr>\n",
       "      <th>1</th>\n",
       "      <td>Steven Margono</td>\n",
       "      <td>FMIPA</td>\n",
       "      <td>67.43</td>\n",
       "      <td>51.50</td>\n",
       "      <td>57.20</td>\n",
       "    </tr>\n",
       "    <tr>\n",
       "      <th>2</th>\n",
       "      <td>Ryan Sentosa</td>\n",
       "      <td>SAPPK</td>\n",
       "      <td>90.62</td>\n",
       "      <td>37.38</td>\n",
       "      <td>40.73</td>\n",
       "    </tr>\n",
       "    <tr>\n",
       "      <th>3</th>\n",
       "      <td>Muhajah Babny Muslim</td>\n",
       "      <td>FMIPA</td>\n",
       "      <td>72.31</td>\n",
       "      <td>38.80</td>\n",
       "      <td>44.79</td>\n",
       "    </tr>\n",
       "    <tr>\n",
       "      <th>4</th>\n",
       "      <td>Alvin Natawiguna</td>\n",
       "      <td>FTSL</td>\n",
       "      <td>65.45</td>\n",
       "      <td>57.67</td>\n",
       "      <td>56.39</td>\n",
       "    </tr>\n",
       "    <tr>\n",
       "      <th>5</th>\n",
       "      <td>Sasti Safitri</td>\n",
       "      <td>FTSL</td>\n",
       "      <td>60.58</td>\n",
       "      <td>41.91</td>\n",
       "      <td>51.55</td>\n",
       "    </tr>\n",
       "    <tr>\n",
       "      <th>6</th>\n",
       "      <td>Dani Yulianto Putra</td>\n",
       "      <td>FTSL</td>\n",
       "      <td>51.67</td>\n",
       "      <td>35.05</td>\n",
       "      <td>48.69</td>\n",
       "    </tr>\n",
       "    <tr>\n",
       "      <th>7</th>\n",
       "      <td>Nabila Febitsukarizky Bunyamin</td>\n",
       "      <td>FTTM</td>\n",
       "      <td>71.66</td>\n",
       "      <td>67.61</td>\n",
       "      <td>69.75</td>\n",
       "    </tr>\n",
       "    <tr>\n",
       "      <th>8</th>\n",
       "      <td>Ratna Siti Khodijah</td>\n",
       "      <td>FTI</td>\n",
       "      <td>73.06</td>\n",
       "      <td>59.16</td>\n",
       "      <td>59.48</td>\n",
       "    </tr>\n",
       "    <tr>\n",
       "      <th>9</th>\n",
       "      <td>Gita Partiwi</td>\n",
       "      <td>FTSL</td>\n",
       "      <td>69.57</td>\n",
       "      <td>38.84</td>\n",
       "      <td>48.17</td>\n",
       "    </tr>\n",
       "  </tbody>\n",
       "</table>\n",
       "</div>"
      ],
      "text/plain": [
       "                             nama fakultas  nilai_mat  nilai_kim  nilai_fis\n",
       "0            Farhan Fathur Rahman    FMIPA      57.21      34.14      38.93\n",
       "1                  Steven Margono    FMIPA      67.43      51.50      57.20\n",
       "2                    Ryan Sentosa    SAPPK      90.62      37.38      40.73\n",
       "3            Muhajah Babny Muslim    FMIPA      72.31      38.80      44.79\n",
       "4                Alvin Natawiguna     FTSL      65.45      57.67      56.39\n",
       "5                   Sasti Safitri     FTSL      60.58      41.91      51.55\n",
       "6             Dani Yulianto Putra     FTSL      51.67      35.05      48.69\n",
       "7  Nabila Febitsukarizky Bunyamin     FTTM      71.66      67.61      69.75\n",
       "8             Ratna Siti Khodijah      FTI      73.06      59.16      59.48\n",
       "9                    Gita Partiwi     FTSL      69.57      38.84      48.17"
      ]
     },
     "execution_count": 16,
     "metadata": {},
     "output_type": "execute_result"
    }
   ],
   "source": [
    "df.head(10)"
   ]
  },
  {
   "cell_type": "markdown",
   "metadata": {},
   "source": [
    "3. Menampilkan data 50-60"
   ]
  },
  {
   "cell_type": "code",
   "execution_count": 17,
   "metadata": {},
   "outputs": [
    {
     "data": {
      "text/html": [
       "<div>\n",
       "<style scoped>\n",
       "    .dataframe tbody tr th:only-of-type {\n",
       "        vertical-align: middle;\n",
       "    }\n",
       "\n",
       "    .dataframe tbody tr th {\n",
       "        vertical-align: top;\n",
       "    }\n",
       "\n",
       "    .dataframe thead th {\n",
       "        text-align: right;\n",
       "    }\n",
       "</style>\n",
       "<table border=\"1\" class=\"dataframe\">\n",
       "  <thead>\n",
       "    <tr style=\"text-align: right;\">\n",
       "      <th></th>\n",
       "      <th>nama</th>\n",
       "      <th>fakultas</th>\n",
       "      <th>nilai_mat</th>\n",
       "      <th>nilai_kim</th>\n",
       "      <th>nilai_fis</th>\n",
       "    </tr>\n",
       "  </thead>\n",
       "  <tbody>\n",
       "    <tr>\n",
       "      <th>50</th>\n",
       "      <td>Arief Syakur Sutedjo</td>\n",
       "      <td>FTTM</td>\n",
       "      <td>84.40</td>\n",
       "      <td>61.21</td>\n",
       "      <td>73.91</td>\n",
       "    </tr>\n",
       "    <tr>\n",
       "      <th>51</th>\n",
       "      <td>Fayi Raihan Saleh</td>\n",
       "      <td>FMIPA</td>\n",
       "      <td>60.62</td>\n",
       "      <td>32.57</td>\n",
       "      <td>42.34</td>\n",
       "    </tr>\n",
       "    <tr>\n",
       "      <th>52</th>\n",
       "      <td>Erna Kristiawati</td>\n",
       "      <td>FTI</td>\n",
       "      <td>67.48</td>\n",
       "      <td>46.78</td>\n",
       "      <td>52.30</td>\n",
       "    </tr>\n",
       "    <tr>\n",
       "      <th>53</th>\n",
       "      <td>Albert</td>\n",
       "      <td>SAPPK</td>\n",
       "      <td>70.27</td>\n",
       "      <td>50.10</td>\n",
       "      <td>54.01</td>\n",
       "    </tr>\n",
       "    <tr>\n",
       "      <th>54</th>\n",
       "      <td>M Jazztyan Indra Pradana</td>\n",
       "      <td>STEI</td>\n",
       "      <td>53.40</td>\n",
       "      <td>43.06</td>\n",
       "      <td>60.30</td>\n",
       "    </tr>\n",
       "    <tr>\n",
       "      <th>55</th>\n",
       "      <td>Moch Ginanjar Busiri</td>\n",
       "      <td>FMIPA</td>\n",
       "      <td>74.29</td>\n",
       "      <td>38.44</td>\n",
       "      <td>49.15</td>\n",
       "    </tr>\n",
       "    <tr>\n",
       "      <th>56</th>\n",
       "      <td>Aisya Tamara</td>\n",
       "      <td>FITB</td>\n",
       "      <td>71.49</td>\n",
       "      <td>35.86</td>\n",
       "      <td>37.41</td>\n",
       "    </tr>\n",
       "    <tr>\n",
       "      <th>57</th>\n",
       "      <td>Tyas Arum Widayati</td>\n",
       "      <td>SAPPK</td>\n",
       "      <td>68.57</td>\n",
       "      <td>37.02</td>\n",
       "      <td>53.25</td>\n",
       "    </tr>\n",
       "    <tr>\n",
       "      <th>58</th>\n",
       "      <td>Arif Saleh</td>\n",
       "      <td>FTI</td>\n",
       "      <td>100.00</td>\n",
       "      <td>59.79</td>\n",
       "      <td>55.33</td>\n",
       "    </tr>\n",
       "    <tr>\n",
       "      <th>59</th>\n",
       "      <td>Windy Diwita Nisaekti</td>\n",
       "      <td>FTI</td>\n",
       "      <td>67.15</td>\n",
       "      <td>57.72</td>\n",
       "      <td>54.24</td>\n",
       "    </tr>\n",
       "  </tbody>\n",
       "</table>\n",
       "</div>"
      ],
      "text/plain": [
       "                        nama fakultas  nilai_mat  nilai_kim  nilai_fis\n",
       "50      Arief Syakur Sutedjo     FTTM      84.40      61.21      73.91\n",
       "51         Fayi Raihan Saleh    FMIPA      60.62      32.57      42.34\n",
       "52          Erna Kristiawati      FTI      67.48      46.78      52.30\n",
       "53                    Albert    SAPPK      70.27      50.10      54.01\n",
       "54  M Jazztyan Indra Pradana     STEI      53.40      43.06      60.30\n",
       "55      Moch Ginanjar Busiri    FMIPA      74.29      38.44      49.15\n",
       "56              Aisya Tamara     FITB      71.49      35.86      37.41\n",
       "57        Tyas Arum Widayati    SAPPK      68.57      37.02      53.25\n",
       "58                Arif Saleh      FTI     100.00      59.79      55.33\n",
       "59     Windy Diwita Nisaekti      FTI      67.15      57.72      54.24"
      ]
     },
     "execution_count": 17,
     "metadata": {},
     "output_type": "execute_result"
    }
   ],
   "source": [
    "df[50:60]"
   ]
  },
  {
   "cell_type": "markdown",
   "metadata": {},
   "source": [
    "4. Menghitung banyaknya mahasiswa ditiap Fakultas"
   ]
  },
  {
   "cell_type": "code",
   "execution_count": 18,
   "metadata": {},
   "outputs": [
    {
     "data": {
      "text/plain": [
       "fakultas\n",
       "FTI      834\n",
       "STEI     777\n",
       "FTSL     660\n",
       "FMIPA    627\n",
       "FTTM     579\n",
       "FTMD     480\n",
       "FITB     403\n",
       "SAPPK    315\n",
       "SITHR    282\n",
       "SITHS    178\n",
       "Name: count, dtype: int64"
      ]
     },
     "execution_count": 18,
     "metadata": {},
     "output_type": "execute_result"
    }
   ],
   "source": [
    "data_values = df['fakultas'].value_counts()\n",
    "data_values"
   ]
  },
  {
   "cell_type": "markdown",
   "metadata": {},
   "source": [
    "5. Hitung nilai korelasi antara nilai fisika dan kimia. Tentukan apakah berkorelasi lurus, terbalik, atau tidak berkorelasi."
   ]
  },
  {
   "cell_type": "code",
   "execution_count": 19,
   "metadata": {},
   "outputs": [
    {
     "data": {
      "text/plain": [
       "np.float64(0.7988187423880274)"
      ]
     },
     "execution_count": 19,
     "metadata": {},
     "output_type": "execute_result"
    }
   ],
   "source": [
    "korelasi = df[\"nilai_fis\"].corr(df['nilai_kim'])\n",
    "korelasi"
   ]
  },
  {
   "cell_type": "markdown",
   "metadata": {},
   "source": [
    "Jadi, Nilai korelasi antara nilai fisika dan kimia semakin mendekati 1, dua kolom berbanding lurus"
   ]
  },
  {
   "cell_type": "markdown",
   "metadata": {},
   "source": [
    "Latihan Soal (Problem 2)"
   ]
  },
  {
   "cell_type": "code",
   "execution_count": 21,
   "metadata": {},
   "outputs": [
    {
     "data": {
      "text/html": [
       "<div>\n",
       "<style scoped>\n",
       "    .dataframe tbody tr th:only-of-type {\n",
       "        vertical-align: middle;\n",
       "    }\n",
       "\n",
       "    .dataframe tbody tr th {\n",
       "        vertical-align: top;\n",
       "    }\n",
       "\n",
       "    .dataframe thead th {\n",
       "        text-align: right;\n",
       "    }\n",
       "</style>\n",
       "<table border=\"1\" class=\"dataframe\">\n",
       "  <thead>\n",
       "    <tr style=\"text-align: right;\">\n",
       "      <th></th>\n",
       "      <th>nama</th>\n",
       "      <th>fakultas</th>\n",
       "      <th>nilai_mat</th>\n",
       "      <th>nilai_kim</th>\n",
       "      <th>nilai_fis</th>\n",
       "    </tr>\n",
       "  </thead>\n",
       "  <tbody>\n",
       "    <tr>\n",
       "      <th>0</th>\n",
       "      <td>Farhan Fathur Rahman</td>\n",
       "      <td>FMIPA</td>\n",
       "      <td>57.21</td>\n",
       "      <td>34.14</td>\n",
       "      <td>38.93</td>\n",
       "    </tr>\n",
       "    <tr>\n",
       "      <th>1</th>\n",
       "      <td>Steven Margono</td>\n",
       "      <td>FMIPA</td>\n",
       "      <td>67.43</td>\n",
       "      <td>51.50</td>\n",
       "      <td>57.20</td>\n",
       "    </tr>\n",
       "    <tr>\n",
       "      <th>2</th>\n",
       "      <td>Ryan Sentosa</td>\n",
       "      <td>SAPPK</td>\n",
       "      <td>90.62</td>\n",
       "      <td>37.38</td>\n",
       "      <td>40.73</td>\n",
       "    </tr>\n",
       "    <tr>\n",
       "      <th>3</th>\n",
       "      <td>Muhajah Babny Muslim</td>\n",
       "      <td>FMIPA</td>\n",
       "      <td>72.31</td>\n",
       "      <td>38.80</td>\n",
       "      <td>44.79</td>\n",
       "    </tr>\n",
       "    <tr>\n",
       "      <th>4</th>\n",
       "      <td>Alvin Natawiguna</td>\n",
       "      <td>FTSL</td>\n",
       "      <td>65.45</td>\n",
       "      <td>57.67</td>\n",
       "      <td>56.39</td>\n",
       "    </tr>\n",
       "    <tr>\n",
       "      <th>...</th>\n",
       "      <td>...</td>\n",
       "      <td>...</td>\n",
       "      <td>...</td>\n",
       "      <td>...</td>\n",
       "      <td>...</td>\n",
       "    </tr>\n",
       "    <tr>\n",
       "      <th>5130</th>\n",
       "      <td>Khoirrashif</td>\n",
       "      <td>SITHR</td>\n",
       "      <td>66.14</td>\n",
       "      <td>46.82</td>\n",
       "      <td>56.74</td>\n",
       "    </tr>\n",
       "    <tr>\n",
       "      <th>5131</th>\n",
       "      <td>Jefri Hendri Adriano</td>\n",
       "      <td>FTSL</td>\n",
       "      <td>53.68</td>\n",
       "      <td>34.74</td>\n",
       "      <td>33.76</td>\n",
       "    </tr>\n",
       "    <tr>\n",
       "      <th>5132</th>\n",
       "      <td>Iki Hidayat</td>\n",
       "      <td>FITB</td>\n",
       "      <td>69.63</td>\n",
       "      <td>35.04</td>\n",
       "      <td>37.65</td>\n",
       "    </tr>\n",
       "    <tr>\n",
       "      <th>5133</th>\n",
       "      <td>Muhammad Nashir Sitompul</td>\n",
       "      <td>FTI</td>\n",
       "      <td>79.69</td>\n",
       "      <td>39.06</td>\n",
       "      <td>50.17</td>\n",
       "    </tr>\n",
       "    <tr>\n",
       "      <th>5134</th>\n",
       "      <td>Billy Richardo Sagala</td>\n",
       "      <td>STEI</td>\n",
       "      <td>68.68</td>\n",
       "      <td>51.23</td>\n",
       "      <td>66.18</td>\n",
       "    </tr>\n",
       "  </tbody>\n",
       "</table>\n",
       "<p>5135 rows × 5 columns</p>\n",
       "</div>"
      ],
      "text/plain": [
       "                          nama fakultas  nilai_mat  nilai_kim  nilai_fis\n",
       "0         Farhan Fathur Rahman    FMIPA      57.21      34.14      38.93\n",
       "1               Steven Margono    FMIPA      67.43      51.50      57.20\n",
       "2                 Ryan Sentosa    SAPPK      90.62      37.38      40.73\n",
       "3         Muhajah Babny Muslim    FMIPA      72.31      38.80      44.79\n",
       "4             Alvin Natawiguna     FTSL      65.45      57.67      56.39\n",
       "...                        ...      ...        ...        ...        ...\n",
       "5130               Khoirrashif    SITHR      66.14      46.82      56.74\n",
       "5131      Jefri Hendri Adriano     FTSL      53.68      34.74      33.76\n",
       "5132               Iki Hidayat     FITB      69.63      35.04      37.65\n",
       "5133  Muhammad Nashir Sitompul      FTI      79.69      39.06      50.17\n",
       "5134     Billy Richardo Sagala     STEI      68.68      51.23      66.18\n",
       "\n",
       "[5135 rows x 5 columns]"
      ]
     },
     "execution_count": 21,
     "metadata": {},
     "output_type": "execute_result"
    }
   ],
   "source": [
    "df = pd.read_csv(\"C:/Users/hp/Downloads/data cute.csv\")\n",
    "df"
   ]
  },
  {
   "cell_type": "markdown",
   "metadata": {},
   "source": [
    "1. Tampilkan nilai matematika, fisika, dan kimia milik Tuan Leo."
   ]
  },
  {
   "cell_type": "code",
   "execution_count": 22,
   "metadata": {},
   "outputs": [
    {
     "data": {
      "text/html": [
       "<div>\n",
       "<style scoped>\n",
       "    .dataframe tbody tr th:only-of-type {\n",
       "        vertical-align: middle;\n",
       "    }\n",
       "\n",
       "    .dataframe tbody tr th {\n",
       "        vertical-align: top;\n",
       "    }\n",
       "\n",
       "    .dataframe thead th {\n",
       "        text-align: right;\n",
       "    }\n",
       "</style>\n",
       "<table border=\"1\" class=\"dataframe\">\n",
       "  <thead>\n",
       "    <tr style=\"text-align: right;\">\n",
       "      <th></th>\n",
       "      <th>nama</th>\n",
       "      <th>fakultas</th>\n",
       "      <th>nilai_mat</th>\n",
       "      <th>nilai_kim</th>\n",
       "      <th>nilai_fis</th>\n",
       "    </tr>\n",
       "  </thead>\n",
       "  <tbody>\n",
       "    <tr>\n",
       "      <th>731</th>\n",
       "      <td>Dedy Leonardo Nadeak</td>\n",
       "      <td>SAPPK</td>\n",
       "      <td>66.71</td>\n",
       "      <td>39.86</td>\n",
       "      <td>43.26</td>\n",
       "    </tr>\n",
       "    <tr>\n",
       "      <th>895</th>\n",
       "      <td>Leonardus Kevin</td>\n",
       "      <td>FTSL</td>\n",
       "      <td>63.53</td>\n",
       "      <td>19.67</td>\n",
       "      <td>26.15</td>\n",
       "    </tr>\n",
       "    <tr>\n",
       "      <th>924</th>\n",
       "      <td>Adityo Leonard</td>\n",
       "      <td>FTMD</td>\n",
       "      <td>58.35</td>\n",
       "      <td>54.03</td>\n",
       "      <td>61.92</td>\n",
       "    </tr>\n",
       "    <tr>\n",
       "      <th>1454</th>\n",
       "      <td>Hansen Leonard Andreas</td>\n",
       "      <td>STEI</td>\n",
       "      <td>72.55</td>\n",
       "      <td>58.65</td>\n",
       "      <td>61.25</td>\n",
       "    </tr>\n",
       "    <tr>\n",
       "      <th>2487</th>\n",
       "      <td>Stephen Leonardo</td>\n",
       "      <td>STEI</td>\n",
       "      <td>68.48</td>\n",
       "      <td>29.11</td>\n",
       "      <td>49.60</td>\n",
       "    </tr>\n",
       "    <tr>\n",
       "      <th>2706</th>\n",
       "      <td>Dennis Corleon N</td>\n",
       "      <td>FITB</td>\n",
       "      <td>54.47</td>\n",
       "      <td>45.57</td>\n",
       "      <td>57.08</td>\n",
       "    </tr>\n",
       "    <tr>\n",
       "      <th>2936</th>\n",
       "      <td>Nicholas Leo</td>\n",
       "      <td>FTTM</td>\n",
       "      <td>81.27</td>\n",
       "      <td>41.81</td>\n",
       "      <td>53.72</td>\n",
       "    </tr>\n",
       "    <tr>\n",
       "      <th>3246</th>\n",
       "      <td>Leonardus Richard Salim</td>\n",
       "      <td>STEI</td>\n",
       "      <td>79.14</td>\n",
       "      <td>46.49</td>\n",
       "      <td>52.71</td>\n",
       "    </tr>\n",
       "    <tr>\n",
       "      <th>3775</th>\n",
       "      <td>Jessica Christella Corleony</td>\n",
       "      <td>FMIPA</td>\n",
       "      <td>64.57</td>\n",
       "      <td>44.12</td>\n",
       "      <td>45.99</td>\n",
       "    </tr>\n",
       "    <tr>\n",
       "      <th>3972</th>\n",
       "      <td>Leonardi Edo Saputra</td>\n",
       "      <td>FMIPA</td>\n",
       "      <td>44.16</td>\n",
       "      <td>36.80</td>\n",
       "      <td>47.00</td>\n",
       "    </tr>\n",
       "  </tbody>\n",
       "</table>\n",
       "</div>"
      ],
      "text/plain": [
       "                             nama fakultas  nilai_mat  nilai_kim  nilai_fis\n",
       "731          Dedy Leonardo Nadeak    SAPPK      66.71      39.86      43.26\n",
       "895               Leonardus Kevin     FTSL      63.53      19.67      26.15\n",
       "924                Adityo Leonard     FTMD      58.35      54.03      61.92\n",
       "1454       Hansen Leonard Andreas     STEI      72.55      58.65      61.25\n",
       "2487             Stephen Leonardo     STEI      68.48      29.11      49.60\n",
       "2706             Dennis Corleon N     FITB      54.47      45.57      57.08\n",
       "2936                 Nicholas Leo     FTTM      81.27      41.81      53.72\n",
       "3246      Leonardus Richard Salim     STEI      79.14      46.49      52.71\n",
       "3775  Jessica Christella Corleony    FMIPA      64.57      44.12      45.99\n",
       "3972         Leonardi Edo Saputra    FMIPA      44.16      36.80      47.00"
      ]
     },
     "execution_count": 22,
     "metadata": {},
     "output_type": "execute_result"
    }
   ],
   "source": [
    "data_nilai = df[df['nama'].str.contains('Leo', case = False)]\n",
    "data_nilai"
   ]
  },
  {
   "cell_type": "markdown",
   "metadata": {},
   "source": [
    "2. Mencari Nilai Fisika Tertinggi"
   ]
  },
  {
   "cell_type": "code",
   "execution_count": 21,
   "metadata": {},
   "outputs": [
    {
     "name": "stdout",
     "output_type": "stream",
     "text": [
      "92.57\n"
     ]
    }
   ],
   "source": [
    "nilai_tertinggi = df['nilai_fis'].max()\n",
    "print(nilai_tertinggi)"
   ]
  },
  {
   "cell_type": "markdown",
   "metadata": {},
   "source": [
    "Mengurutkan dari yang Tertinggi"
   ]
  },
  {
   "cell_type": "code",
   "execution_count": 23,
   "metadata": {},
   "outputs": [
    {
     "name": "stdout",
     "output_type": "stream",
     "text": [
      "                         nama fakultas  nilai_mat  nilai_kim  nilai_fis\n",
      "1936  Yuniar Fazriani Rusmana     FITB      53.61      67.19      92.57\n",
      "4145                    Grace    SAPPK      62.23      68.08      90.46\n",
      "918            Siti Munawaroh     STEI      62.22      73.93      90.13\n",
      "1147             Feruz Kausar     STEI      81.61      76.12      88.40\n",
      "2074            Sandi Suryadi     STEI      79.17      73.81      86.83\n",
      "...                       ...      ...        ...        ...        ...\n",
      "372          Muhammad Syirazi      FTI      52.96       5.31      15.81\n",
      "1445            Erwin Hariadi     STEI      87.95       2.09      14.43\n",
      "4772     Emirza Faisal Dahlan    SITHS      72.59      14.19      12.94\n",
      "3534          Evelyn Melindra     STEI      77.56       7.83      11.10\n",
      "4459             Firda Amalia    FMIPA      95.58      10.10       9.11\n",
      "\n",
      "[5135 rows x 5 columns]\n"
     ]
    }
   ],
   "source": [
    "fisika_sorted = df.sort_values(by='nilai_fis',ascending=False)\n",
    "print(fisika_sorted)"
   ]
  },
  {
   "cell_type": "markdown",
   "metadata": {},
   "source": [
    "Menampilkan 10 orang Nilai Fisika Tertinggi"
   ]
  },
  {
   "cell_type": "code",
   "execution_count": 24,
   "metadata": {},
   "outputs": [
    {
     "data": {
      "text/html": [
       "<div>\n",
       "<style scoped>\n",
       "    .dataframe tbody tr th:only-of-type {\n",
       "        vertical-align: middle;\n",
       "    }\n",
       "\n",
       "    .dataframe tbody tr th {\n",
       "        vertical-align: top;\n",
       "    }\n",
       "\n",
       "    .dataframe thead th {\n",
       "        text-align: right;\n",
       "    }\n",
       "</style>\n",
       "<table border=\"1\" class=\"dataframe\">\n",
       "  <thead>\n",
       "    <tr style=\"text-align: right;\">\n",
       "      <th></th>\n",
       "      <th>nama</th>\n",
       "      <th>fakultas</th>\n",
       "      <th>nilai_mat</th>\n",
       "      <th>nilai_kim</th>\n",
       "      <th>nilai_fis</th>\n",
       "    </tr>\n",
       "  </thead>\n",
       "  <tbody>\n",
       "    <tr>\n",
       "      <th>1936</th>\n",
       "      <td>Yuniar Fazriani Rusmana</td>\n",
       "      <td>FITB</td>\n",
       "      <td>53.61</td>\n",
       "      <td>67.19</td>\n",
       "      <td>92.57</td>\n",
       "    </tr>\n",
       "    <tr>\n",
       "      <th>4145</th>\n",
       "      <td>Grace</td>\n",
       "      <td>SAPPK</td>\n",
       "      <td>62.23</td>\n",
       "      <td>68.08</td>\n",
       "      <td>90.46</td>\n",
       "    </tr>\n",
       "    <tr>\n",
       "      <th>918</th>\n",
       "      <td>Siti Munawaroh</td>\n",
       "      <td>STEI</td>\n",
       "      <td>62.22</td>\n",
       "      <td>73.93</td>\n",
       "      <td>90.13</td>\n",
       "    </tr>\n",
       "    <tr>\n",
       "      <th>1147</th>\n",
       "      <td>Feruz Kausar</td>\n",
       "      <td>STEI</td>\n",
       "      <td>81.61</td>\n",
       "      <td>76.12</td>\n",
       "      <td>88.40</td>\n",
       "    </tr>\n",
       "    <tr>\n",
       "      <th>2074</th>\n",
       "      <td>Sandi Suryadi</td>\n",
       "      <td>STEI</td>\n",
       "      <td>79.17</td>\n",
       "      <td>73.81</td>\n",
       "      <td>86.83</td>\n",
       "    </tr>\n",
       "    <tr>\n",
       "      <th>1855</th>\n",
       "      <td>Sukuanto Tanoto</td>\n",
       "      <td>FTTM</td>\n",
       "      <td>88.42</td>\n",
       "      <td>67.16</td>\n",
       "      <td>86.25</td>\n",
       "    </tr>\n",
       "    <tr>\n",
       "      <th>1701</th>\n",
       "      <td>Riyani Prima Dewi</td>\n",
       "      <td>FTSL</td>\n",
       "      <td>80.56</td>\n",
       "      <td>71.57</td>\n",
       "      <td>85.95</td>\n",
       "    </tr>\n",
       "    <tr>\n",
       "      <th>4858</th>\n",
       "      <td>Nafisa Meisa Iskandar</td>\n",
       "      <td>FTTM</td>\n",
       "      <td>64.28</td>\n",
       "      <td>59.48</td>\n",
       "      <td>85.59</td>\n",
       "    </tr>\n",
       "    <tr>\n",
       "      <th>1301</th>\n",
       "      <td>Ludya Nabila Chinta</td>\n",
       "      <td>FMIPA</td>\n",
       "      <td>69.25</td>\n",
       "      <td>72.21</td>\n",
       "      <td>84.89</td>\n",
       "    </tr>\n",
       "    <tr>\n",
       "      <th>2952</th>\n",
       "      <td>Adjie Wirandhana</td>\n",
       "      <td>FMIPA</td>\n",
       "      <td>77.62</td>\n",
       "      <td>71.64</td>\n",
       "      <td>84.65</td>\n",
       "    </tr>\n",
       "  </tbody>\n",
       "</table>\n",
       "</div>"
      ],
      "text/plain": [
       "                         nama fakultas  nilai_mat  nilai_kim  nilai_fis\n",
       "1936  Yuniar Fazriani Rusmana     FITB      53.61      67.19      92.57\n",
       "4145                    Grace    SAPPK      62.23      68.08      90.46\n",
       "918            Siti Munawaroh     STEI      62.22      73.93      90.13\n",
       "1147             Feruz Kausar     STEI      81.61      76.12      88.40\n",
       "2074            Sandi Suryadi     STEI      79.17      73.81      86.83\n",
       "1855          Sukuanto Tanoto     FTTM      88.42      67.16      86.25\n",
       "1701        Riyani Prima Dewi     FTSL      80.56      71.57      85.95\n",
       "4858    Nafisa Meisa Iskandar     FTTM      64.28      59.48      85.59\n",
       "1301      Ludya Nabila Chinta    FMIPA      69.25      72.21      84.89\n",
       "2952         Adjie Wirandhana    FMIPA      77.62      71.64      84.65"
      ]
     },
     "execution_count": 24,
     "metadata": {},
     "output_type": "execute_result"
    }
   ],
   "source": [
    "nilai_fisika = fisika_sorted.head(10)\n",
    "nilai_fisika"
   ]
  },
  {
   "cell_type": "markdown",
   "metadata": {},
   "source": [
    "3. Menampilkan 10 orang dengan nilai kimia tertinggi"
   ]
  },
  {
   "cell_type": "code",
   "execution_count": 25,
   "metadata": {},
   "outputs": [
    {
     "name": "stdout",
     "output_type": "stream",
     "text": [
      "81.5\n"
     ]
    }
   ],
   "source": [
    "nilai_tertinggi = df['nilai_kim'].max()\n",
    "print(nilai_tertinggi)"
   ]
  },
  {
   "cell_type": "markdown",
   "metadata": {},
   "source": [
    "Mengurutkan Nilai Kimia dari yang Tertinggi"
   ]
  },
  {
   "cell_type": "code",
   "execution_count": 26,
   "metadata": {},
   "outputs": [
    {
     "name": "stdout",
     "output_type": "stream",
     "text": [
      "                        nama fakultas  nilai_mat  nilai_kim  nilai_fis\n",
      "2554    Faathir Reza Avicena     FTSL      57.12      81.50      78.68\n",
      "2779    Dinda A A Z Mundakir     STEI      41.18      81.34      82.60\n",
      "3544      Tammya Ayu Purnomo    SITHS      74.49      81.20      78.58\n",
      "4934  Alyssa Nadhira Windari     FTMD      78.38      78.83      78.68\n",
      "1137        Izni Nur Ibrahim     STEI      56.70      78.46      84.34\n",
      "...                      ...      ...        ...        ...        ...\n",
      "3534         Evelyn Melindra     STEI      77.56       7.83      11.10\n",
      "2912    Yunita Indah Puspita     FTMD      77.06       7.16      18.99\n",
      "4111          Swastika Utama     FTMD      86.51       6.67      23.16\n",
      "372         Muhammad Syirazi      FTI      52.96       5.31      15.81\n",
      "1445           Erwin Hariadi     STEI      87.95       2.09      14.43\n",
      "\n",
      "[5135 rows x 5 columns]\n"
     ]
    }
   ],
   "source": [
    "kimia_sorted = df.sort_values(by='nilai_kim',ascending=False)\n",
    "print(kimia_sorted)"
   ]
  },
  {
   "cell_type": "markdown",
   "metadata": {},
   "source": [
    "Dan Menampilkan Urutan 10 Orang dengan Nilai Kimia Tertinggi"
   ]
  },
  {
   "cell_type": "code",
   "execution_count": 27,
   "metadata": {},
   "outputs": [
    {
     "data": {
      "text/html": [
       "<div>\n",
       "<style scoped>\n",
       "    .dataframe tbody tr th:only-of-type {\n",
       "        vertical-align: middle;\n",
       "    }\n",
       "\n",
       "    .dataframe tbody tr th {\n",
       "        vertical-align: top;\n",
       "    }\n",
       "\n",
       "    .dataframe thead th {\n",
       "        text-align: right;\n",
       "    }\n",
       "</style>\n",
       "<table border=\"1\" class=\"dataframe\">\n",
       "  <thead>\n",
       "    <tr style=\"text-align: right;\">\n",
       "      <th></th>\n",
       "      <th>nama</th>\n",
       "      <th>fakultas</th>\n",
       "      <th>nilai_mat</th>\n",
       "      <th>nilai_kim</th>\n",
       "      <th>nilai_fis</th>\n",
       "    </tr>\n",
       "  </thead>\n",
       "  <tbody>\n",
       "    <tr>\n",
       "      <th>2554</th>\n",
       "      <td>Faathir Reza Avicena</td>\n",
       "      <td>FTSL</td>\n",
       "      <td>57.12</td>\n",
       "      <td>81.50</td>\n",
       "      <td>78.68</td>\n",
       "    </tr>\n",
       "    <tr>\n",
       "      <th>2779</th>\n",
       "      <td>Dinda A A Z Mundakir</td>\n",
       "      <td>STEI</td>\n",
       "      <td>41.18</td>\n",
       "      <td>81.34</td>\n",
       "      <td>82.60</td>\n",
       "    </tr>\n",
       "    <tr>\n",
       "      <th>3544</th>\n",
       "      <td>Tammya Ayu Purnomo</td>\n",
       "      <td>SITHS</td>\n",
       "      <td>74.49</td>\n",
       "      <td>81.20</td>\n",
       "      <td>78.58</td>\n",
       "    </tr>\n",
       "    <tr>\n",
       "      <th>4934</th>\n",
       "      <td>Alyssa Nadhira Windari</td>\n",
       "      <td>FTMD</td>\n",
       "      <td>78.38</td>\n",
       "      <td>78.83</td>\n",
       "      <td>78.68</td>\n",
       "    </tr>\n",
       "    <tr>\n",
       "      <th>1137</th>\n",
       "      <td>Izni Nur Ibrahim</td>\n",
       "      <td>STEI</td>\n",
       "      <td>56.70</td>\n",
       "      <td>78.46</td>\n",
       "      <td>84.34</td>\n",
       "    </tr>\n",
       "    <tr>\n",
       "      <th>2262</th>\n",
       "      <td>Rinaldi Oky Setiawan</td>\n",
       "      <td>STEI</td>\n",
       "      <td>71.22</td>\n",
       "      <td>77.44</td>\n",
       "      <td>83.66</td>\n",
       "    </tr>\n",
       "    <tr>\n",
       "      <th>4070</th>\n",
       "      <td>Ias Azhari Rezkyarno</td>\n",
       "      <td>FMIPA</td>\n",
       "      <td>62.85</td>\n",
       "      <td>76.90</td>\n",
       "      <td>81.52</td>\n",
       "    </tr>\n",
       "    <tr>\n",
       "      <th>2945</th>\n",
       "      <td>Klara Petra T T</td>\n",
       "      <td>FTSL</td>\n",
       "      <td>73.39</td>\n",
       "      <td>76.61</td>\n",
       "      <td>78.12</td>\n",
       "    </tr>\n",
       "    <tr>\n",
       "      <th>1788</th>\n",
       "      <td>Naudy Germanimo Laksmana</td>\n",
       "      <td>FTMD</td>\n",
       "      <td>62.29</td>\n",
       "      <td>76.38</td>\n",
       "      <td>76.15</td>\n",
       "    </tr>\n",
       "    <tr>\n",
       "      <th>1310</th>\n",
       "      <td>Mardliyahtur Rohmah</td>\n",
       "      <td>STEI</td>\n",
       "      <td>63.15</td>\n",
       "      <td>76.36</td>\n",
       "      <td>74.06</td>\n",
       "    </tr>\n",
       "  </tbody>\n",
       "</table>\n",
       "</div>"
      ],
      "text/plain": [
       "                          nama fakultas  nilai_mat  nilai_kim  nilai_fis\n",
       "2554      Faathir Reza Avicena     FTSL      57.12      81.50      78.68\n",
       "2779      Dinda A A Z Mundakir     STEI      41.18      81.34      82.60\n",
       "3544        Tammya Ayu Purnomo    SITHS      74.49      81.20      78.58\n",
       "4934    Alyssa Nadhira Windari     FTMD      78.38      78.83      78.68\n",
       "1137          Izni Nur Ibrahim     STEI      56.70      78.46      84.34\n",
       "2262      Rinaldi Oky Setiawan     STEI      71.22      77.44      83.66\n",
       "4070      Ias Azhari Rezkyarno    FMIPA      62.85      76.90      81.52\n",
       "2945           Klara Petra T T     FTSL      73.39      76.61      78.12\n",
       "1788  Naudy Germanimo Laksmana     FTMD      62.29      76.38      76.15\n",
       "1310       Mardliyahtur Rohmah     STEI      63.15      76.36      74.06"
      ]
     },
     "execution_count": 27,
     "metadata": {},
     "output_type": "execute_result"
    }
   ],
   "source": [
    "nilai_kimia = kimia_sorted.head(10)\n",
    "nilai_kimia"
   ]
  },
  {
   "cell_type": "markdown",
   "metadata": {},
   "source": [
    "4. Banyaknya Nilai Matematika dibawah 50"
   ]
  },
  {
   "cell_type": "code",
   "execution_count": 28,
   "metadata": {},
   "outputs": [
    {
     "name": "stdout",
     "output_type": "stream",
     "text": [
      "                      nama fakultas  nilai_mat  nilai_kim  nilai_fis\n",
      "63        Fidelis Elizabet    FMIPA      41.88      53.44      52.51\n",
      "81                   Kevin     FTSL      48.18      24.89      32.12\n",
      "83            Melinda Waty     STEI      44.69      42.34      39.49\n",
      "91    Andi Bhatara Zharfan    SITHS      33.63      24.74      30.10\n",
      "94          Wawan Hermawan     FTMD      45.34      34.56      45.56\n",
      "...                    ...      ...        ...        ...        ...\n",
      "5039   Jhon Victor Siahaan    FMIPA      42.60      49.84      59.50\n",
      "5047    Dhiya Fajri Sadida     STEI      49.56      55.39      68.07\n",
      "5063       Ahmad Puji Ardi    SITHR      42.10      35.37      31.05\n",
      "5100        Novita Wahyuni     STEI      45.23      28.35      37.38\n",
      "5122     Dharmawan Raharjo     STEI      42.16      42.15      52.73\n",
      "\n",
      "[329 rows x 5 columns]\n"
     ]
    }
   ],
   "source": [
    "nilai_mat = df[df['nilai_mat'] < 50]\n",
    "print(nilai_mat)"
   ]
  },
  {
   "cell_type": "markdown",
   "metadata": {},
   "source": [
    "5. Banyaknya Mahasiswa di FMIPA"
   ]
  },
  {
   "cell_type": "code",
   "execution_count": 29,
   "metadata": {},
   "outputs": [
    {
     "data": {
      "text/html": [
       "<div>\n",
       "<style scoped>\n",
       "    .dataframe tbody tr th:only-of-type {\n",
       "        vertical-align: middle;\n",
       "    }\n",
       "\n",
       "    .dataframe tbody tr th {\n",
       "        vertical-align: top;\n",
       "    }\n",
       "\n",
       "    .dataframe thead th {\n",
       "        text-align: right;\n",
       "    }\n",
       "</style>\n",
       "<table border=\"1\" class=\"dataframe\">\n",
       "  <thead>\n",
       "    <tr style=\"text-align: right;\">\n",
       "      <th></th>\n",
       "      <th>nama</th>\n",
       "      <th>fakultas</th>\n",
       "      <th>nilai_mat</th>\n",
       "      <th>nilai_kim</th>\n",
       "      <th>nilai_fis</th>\n",
       "    </tr>\n",
       "  </thead>\n",
       "  <tbody>\n",
       "    <tr>\n",
       "      <th>0</th>\n",
       "      <td>Farhan Fathur Rahman</td>\n",
       "      <td>FMIPA</td>\n",
       "      <td>57.21</td>\n",
       "      <td>34.14</td>\n",
       "      <td>38.93</td>\n",
       "    </tr>\n",
       "    <tr>\n",
       "      <th>1</th>\n",
       "      <td>Steven Margono</td>\n",
       "      <td>FMIPA</td>\n",
       "      <td>67.43</td>\n",
       "      <td>51.50</td>\n",
       "      <td>57.20</td>\n",
       "    </tr>\n",
       "    <tr>\n",
       "      <th>3</th>\n",
       "      <td>Muhajah Babny Muslim</td>\n",
       "      <td>FMIPA</td>\n",
       "      <td>72.31</td>\n",
       "      <td>38.80</td>\n",
       "      <td>44.79</td>\n",
       "    </tr>\n",
       "    <tr>\n",
       "      <th>17</th>\n",
       "      <td>Diana Octavia</td>\n",
       "      <td>FMIPA</td>\n",
       "      <td>84.23</td>\n",
       "      <td>31.62</td>\n",
       "      <td>36.46</td>\n",
       "    </tr>\n",
       "    <tr>\n",
       "      <th>20</th>\n",
       "      <td>Abdul Azis</td>\n",
       "      <td>FMIPA</td>\n",
       "      <td>90.14</td>\n",
       "      <td>31.05</td>\n",
       "      <td>49.40</td>\n",
       "    </tr>\n",
       "    <tr>\n",
       "      <th>...</th>\n",
       "      <td>...</td>\n",
       "      <td>...</td>\n",
       "      <td>...</td>\n",
       "      <td>...</td>\n",
       "      <td>...</td>\n",
       "    </tr>\n",
       "    <tr>\n",
       "      <th>5083</th>\n",
       "      <td>Adithya Prabowo</td>\n",
       "      <td>FMIPA</td>\n",
       "      <td>69.73</td>\n",
       "      <td>51.83</td>\n",
       "      <td>66.14</td>\n",
       "    </tr>\n",
       "    <tr>\n",
       "      <th>5084</th>\n",
       "      <td>Mutawakil Al Muqadasi</td>\n",
       "      <td>FMIPA</td>\n",
       "      <td>69.90</td>\n",
       "      <td>52.45</td>\n",
       "      <td>65.73</td>\n",
       "    </tr>\n",
       "    <tr>\n",
       "      <th>5098</th>\n",
       "      <td>Nurul Rahma Kurnia Sari</td>\n",
       "      <td>FMIPA</td>\n",
       "      <td>80.00</td>\n",
       "      <td>48.26</td>\n",
       "      <td>57.37</td>\n",
       "    </tr>\n",
       "    <tr>\n",
       "      <th>5104</th>\n",
       "      <td>Rifki Wahyu Kurnianto</td>\n",
       "      <td>FMIPA</td>\n",
       "      <td>81.35</td>\n",
       "      <td>29.28</td>\n",
       "      <td>39.76</td>\n",
       "    </tr>\n",
       "    <tr>\n",
       "      <th>5123</th>\n",
       "      <td>Siti Vivi Octaviany</td>\n",
       "      <td>FMIPA</td>\n",
       "      <td>72.85</td>\n",
       "      <td>64.49</td>\n",
       "      <td>69.56</td>\n",
       "    </tr>\n",
       "  </tbody>\n",
       "</table>\n",
       "<p>627 rows × 5 columns</p>\n",
       "</div>"
      ],
      "text/plain": [
       "                         nama fakultas  nilai_mat  nilai_kim  nilai_fis\n",
       "0        Farhan Fathur Rahman    FMIPA      57.21      34.14      38.93\n",
       "1              Steven Margono    FMIPA      67.43      51.50      57.20\n",
       "3        Muhajah Babny Muslim    FMIPA      72.31      38.80      44.79\n",
       "17              Diana Octavia    FMIPA      84.23      31.62      36.46\n",
       "20                 Abdul Azis    FMIPA      90.14      31.05      49.40\n",
       "...                       ...      ...        ...        ...        ...\n",
       "5083          Adithya Prabowo    FMIPA      69.73      51.83      66.14\n",
       "5084    Mutawakil Al Muqadasi    FMIPA      69.90      52.45      65.73\n",
       "5098  Nurul Rahma Kurnia Sari    FMIPA      80.00      48.26      57.37\n",
       "5104    Rifki Wahyu Kurnianto    FMIPA      81.35      29.28      39.76\n",
       "5123      Siti Vivi Octaviany    FMIPA      72.85      64.49      69.56\n",
       "\n",
       "[627 rows x 5 columns]"
      ]
     },
     "execution_count": 29,
     "metadata": {},
     "output_type": "execute_result"
    }
   ],
   "source": [
    "data_fmipa = df[df['fakultas'] == 'FMIPA']\n",
    "data_fmipa"
   ]
  }
 ],
 "metadata": {
  "kernelspec": {
   "display_name": "Python 3",
   "language": "python",
   "name": "python3"
  },
  "language_info": {
   "codemirror_mode": {
    "name": "ipython",
    "version": 3
   },
   "file_extension": ".py",
   "mimetype": "text/x-python",
   "name": "python",
   "nbconvert_exporter": "python",
   "pygments_lexer": "ipython3",
   "version": "3.13.0"
  }
 },
 "nbformat": 4,
 "nbformat_minor": 2
}
