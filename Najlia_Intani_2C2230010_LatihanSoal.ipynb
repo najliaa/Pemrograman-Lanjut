{
  "nbformat": 4,
  "nbformat_minor": 0,
  "metadata": {
    "colab": {
      "provenance": [],
      "authorship_tag": "ABX9TyMH8Hp8/zLkuweFgKZJCEYV",
      "include_colab_link": true
    },
    "kernelspec": {
      "name": "python3",
      "display_name": "Python 3"
    },
    "language_info": {
      "name": "python"
    }
  },
  "cells": [
    {
      "cell_type": "markdown",
      "metadata": {
        "id": "view-in-github",
        "colab_type": "text"
      },
      "source": [
        "<a href=\"https://colab.research.google.com/github/najliaa/Pemrograman-Lanjut/blob/main/Najlia_Intani_2C2230010_LatihanSoal.ipynb\" target=\"_parent\"><img src=\"https://colab.research.google.com/assets/colab-badge.svg\" alt=\"Open In Colab\"/></a>"
      ]
    },
    {
      "cell_type": "markdown",
      "source": [
        "**QUIZ PRAKTIKUM PEMROGRAMAN LANJUT**\n",
        "\n",
        "\n",
        "---\n",
        "\n",
        "\n",
        "\n",
        "**NAMA: NAJLIA INTANI**\n",
        "\n",
        "**NRP: 2C2230010**\n",
        "\n",
        "**TANGGAL: 4 NOVEMBER 2024**\n",
        "\n",
        "**MK: PEMROGRAMAN LANJUT**\n"
      ],
      "metadata": {
        "id": "Eey7pEVzOvea"
      }
    },
    {
      "cell_type": "markdown",
      "source": [
        "**SOAL 1**\n",
        "\n",
        "Buatlah program menerima berat  badan seorang atlit(bilangan bulat) dan menuliskan kelas pertandingan atlit yang bersangkutan. Jika berat badan atlit<45kg, tuliskan \"Tidak memenuhi Kualifikasi\"."
      ],
      "metadata": {
        "id": "3Hzx7AurQaAS"
      }
    },
    {
      "cell_type": "code",
      "source": [
        "def menentukan_kelas_pertandingan_atlit(bb_atlit):\n",
        "  if bb_atlit < 45:\n",
        "    return \"Tidak memenuhi Kualifikasi\"\n",
        "  elif bb_atlit <= 50:\n",
        "    return \"Kelas A\"\n",
        "  elif bb_atlit <= 55:\n",
        "    return \"Kelas B\"\n",
        "  elif bb_atlit <= 60:\n",
        "    return \"Kelas C\"\n",
        "  elif bb_atlit <= 65:\n",
        "    return \"Kelas D\"\n",
        "  elif bb_atlit <= 70:\n",
        "    return \"Kelas E\"\n",
        "  else:\n",
        "    return \"Kelas F\"\n",
        "\n",
        "bb_atlit = int(input(\"Masukkan berat badan atlit: \"))\n",
        "kelas_atlit = menentukan_kelas_pertandingan_atlit(bb_atlit)\n",
        "print(\"Kelas pertandingan atlit:\", kelas_atlit)"
      ],
      "metadata": {
        "colab": {
          "base_uri": "https://localhost:8080/"
        },
        "id": "dyDAlZZITBra",
        "outputId": "8fa8d6be-3852-478c-c15b-8197490e4bf5"
      },
      "execution_count": 4,
      "outputs": [
        {
          "output_type": "stream",
          "name": "stdout",
          "text": [
            "Masukkan berat badan atlit: 50\n",
            "Kelas pertandingan atlit: Kelas A\n"
          ]
        }
      ]
    },
    {
      "cell_type": "markdown",
      "source": [
        "**SOAL 2**\n",
        "\n",
        "Buatlah program meminta user masukkan bilangan bulat ratusan. lalu menampilkan ke layar apakah bilangan tersebut adalah bilangan armstrong atau bukan"
      ],
      "metadata": {
        "id": "5H6b49v6TUUb"
      }
    },
    {
      "cell_type": "code",
      "source": [
        "angka = int(input(\"Masukkan bilangan bulat ratusan: \"))\n",
        "\n",
        "if 100 <= angka <= 999:\n",
        "  ratusan = angka // 100\n",
        "  puluhan = (angka % 100) // 10\n",
        "  satuan = angka % 10\n",
        "  if ratusan**3 + puluhan**3 + satuan**3 == angka:\n",
        "    print(\"Bilangan\", angka, \"adalah bilangan armstrong\")\n",
        "  else:\n",
        "    print(\"Bilangan\", angka, \"bukan bilangan armstrong\")\n",
        "else:\n",
        "  print(\"Bilangan yang dimasukkan bukan bilangan ratusan.\")"
      ],
      "metadata": {
        "colab": {
          "base_uri": "https://localhost:8080/"
        },
        "id": "0EVZ7z9QUSZT",
        "outputId": "54bbb5f5-ad6d-4bce-ca39-8ab4fd0a8d14"
      },
      "execution_count": 17,
      "outputs": [
        {
          "output_type": "stream",
          "name": "stdout",
          "text": [
            "Masukkan bilangan bulat ratusan: 371\n",
            "Bilangan 371 adalah bilangan armstrong\n"
          ]
        }
      ]
    },
    {
      "cell_type": "markdown",
      "source": [
        "**SOAL 3**\n",
        "\n",
        "Buatlah program yang menghitung volume bola"
      ],
      "metadata": {
        "id": "yEdyqXNAV__O"
      }
    },
    {
      "cell_type": "code",
      "source": [
        "import math\n",
        "\n",
        "def hitung_volume_bola(jari_jari):\n",
        "\n",
        "  volume = (4 / 3) * math.pi * (jari_jari ** 3)\n",
        "  return volume\n",
        "\n",
        "jari_jari = float(input(\"Masukkan jari-jari bola: \"))\n",
        "volume = hitung_volume_bola(jari_jari)\n",
        "print(\"Volume bola adalah:\", volume)"
      ],
      "metadata": {
        "colab": {
          "base_uri": "https://localhost:8080/"
        },
        "id": "ZksK_2cOWdc0",
        "outputId": "7614f0e9-3791-4c0d-833a-932d34755bf4"
      },
      "execution_count": 19,
      "outputs": [
        {
          "output_type": "stream",
          "name": "stdout",
          "text": [
            "Masukkan jari-jari bola: 15\n",
            "Volume bola adalah: 14137.166941154068\n"
          ]
        }
      ]
    },
    {
      "cell_type": "markdown",
      "source": [
        "**SOAL 4**\n",
        "\n",
        "Buatlah program yang membantu Kepala Sekolah untuk menghitung tinggi rata-rata siswa di kelas Program menerima input sejumlah bilangan bulat yang mewakili tinggi mahasiswa. Pembacaan input diakhiri dengan memasukkan nilai -999 (tidak termasuk diproses). Selanjutnya program menuliskan tinggi rata-rata siswa di kelas berdasarkan data yang diinputkan, tanpa memperhitungkan data yang salah input(yaitu jika nilai<100 cm atau > 200 cm ). Jika tidak ada data yang bisa digunakan untuk menghitung tinggi rata-rata, tuliskan pesan \"tidak ada data\""
      ],
      "metadata": {
        "id": "MEVOPS9GXAe8"
      }
    },
    {
      "cell_type": "code",
      "source": [
        "def hitung_rata_rata_tinggi():\n",
        "    total_tinggi = 0\n",
        "    jumlah_data_valid = 0\n",
        "    while True:\n",
        "        input_tinggi = input(\"Masukkan tinggi badan siswa (cm) atau -999 untuk selesai: \")\n",
        "        try:\n",
        "            tinggi = int(input_tinggi)\n",
        "        except ValueError:\n",
        "            print(\"Input tidak valid. Silakan masukkan angka.\")\n",
        "            continue\n",
        "        if tinggi == -999:\n",
        "            break\n",
        "\n",
        "        if 100 <= tinggi <= 200:\n",
        "            total_tinggi += tinggi\n",
        "            jumlah_data_valid += 1\n",
        "        else:\n",
        "            print(f\"Tinggi {tinggi} cm tidak valid, diabaikan.\")\n",
        "    if jumlah_data_valid > 0:\n",
        "        rata_rata = total_tinggi / jumlah_data_valid\n",
        "        print(f\"Tinggi rata-rata siswa di kelas adalah: {rata_rata:.2f} cm\")\n",
        "    else:\n",
        "        print(\"Tidak ada data tinggi badan yang valid.\")\n",
        "\n",
        "hitung_rata_rata_tinggi()"
      ],
      "metadata": {
        "colab": {
          "base_uri": "https://localhost:8080/"
        },
        "id": "vF-M8G6nZu0u",
        "outputId": "46857cd4-b565-483c-b193-aaaad6f04977"
      },
      "execution_count": 36,
      "outputs": [
        {
          "output_type": "stream",
          "name": "stdout",
          "text": [
            "Masukkan tinggi badan siswa (cm) atau -999 untuk selesai: 155\n",
            "Masukkan tinggi badan siswa (cm) atau -999 untuk selesai: 156\n",
            "Masukkan tinggi badan siswa (cm) atau -999 untuk selesai: 157\n",
            "Masukkan tinggi badan siswa (cm) atau -999 untuk selesai: 158\n",
            "Masukkan tinggi badan siswa (cm) atau -999 untuk selesai: 159\n",
            "Masukkan tinggi badan siswa (cm) atau -999 untuk selesai: 160\n",
            "Masukkan tinggi badan siswa (cm) atau -999 untuk selesai: 161\n",
            "Masukkan tinggi badan siswa (cm) atau -999 untuk selesai: 162\n",
            "Masukkan tinggi badan siswa (cm) atau -999 untuk selesai: 163\n",
            "Masukkan tinggi badan siswa (cm) atau -999 untuk selesai: 164\n",
            "Masukkan tinggi badan siswa (cm) atau -999 untuk selesai: 165\n",
            "Masukkan tinggi badan siswa (cm) atau -999 untuk selesai: 166\n",
            "Masukkan tinggi badan siswa (cm) atau -999 untuk selesai: 167\n",
            "Masukkan tinggi badan siswa (cm) atau -999 untuk selesai: 168\n",
            "Masukkan tinggi badan siswa (cm) atau -999 untuk selesai: 169\n",
            "Masukkan tinggi badan siswa (cm) atau -999 untuk selesai: 170\n",
            "Masukkan tinggi badan siswa (cm) atau -999 untuk selesai: -999\n",
            "Tinggi rata-rata siswa di kelas adalah: 162.50 cm\n"
          ]
        }
      ]
    },
    {
      "cell_type": "markdown",
      "source": [
        "**SOAL 5**\n",
        "\n",
        "Dosen ingin mengolah nilai kuliah yang diikuti oleh N orang mahasiswa(N>0). Program tersebut menerima masukan nama, nilai praktikum, nilai uts dan nilai uas sebanyak jumlah mahasiswa(Setiap nilai dalam skala 0 s.d 100). Untuk setiap mahasiswa, dihitung nilai akhir dengan rumus sbb:\n",
        "\n",
        "nilai akhir = 0.2*nilai praktikum+0.4*nilai uts+0.4*nilai uas\n",
        "\n",
        "selanjutnya, berdasarkan nilai akhir tsb, ditentukan indeks akhir mata kuliah yang didapat oleh setiap mahasiswa dengan aturan: A>85, 85>AB >= 75, 75>B>=70, 70>BC>=60, 60>C>=50, 50>D>=40, dan sisanya E\n",
        "\n",
        "Program kemudian mencetak nama, setiap komponen nilai, nilai akhir, dan indeks untuk tiap mahasiswa. Berikut contoh tampilan outpounya(setiap detail nilai dipisahkan oleh spasi dan vertikal bar, N=2)\n",
        "\n",
        "Contoh:\n",
        "\n",
        "Nama | Praktikum | UTS | UAS | Akhir | Indeks\n",
        "\n",
        "Udin | 90        | 90  | 90  | 90    | A\n",
        "\n",
        "Asep | 80        | 80  | 80  |80     | B"
      ],
      "metadata": {
        "id": "s8020VpTa_se"
      }
    },
    {
      "cell_type": "code",
      "source": [
        "from os import NGROUPS_MAX\n",
        "def hitung_indeks_penilaian_mahasiswa():\n",
        "  n = int(input(\"Masukkan jumlah mahasiswa: \"))\n",
        "\n",
        "  print(\"NRP | Nama | Fakultas | Prodi | Praktikum | UTS | UAS | Akhir | Indeks\")\n",
        "\n",
        "  for _ in range(n):\n",
        "    nrp = input(\"Masukkan NRP: \")9\n",
        "    nama = input(\"Masukkan nama mahasiswa Ikopin University: \")\n",
        "    fakultas = input(\"Masukkan nama fakultas: \")\n",
        "    prodi = input(\"Masukkan nama prodi: \")\n",
        "    praktikum = float(input(\"Masukkan nilai praktikum: \"))\n",
        "    uts = float(input(\"Masukkan nilai UTS: \"))\n",
        "    uas = float(input(\"Masukkan nilai UAS: \"))\n",
        "\n",
        "    nilai_akhir = 0.2 * praktikum + 0.4 * uts + 0.4 * uas\n",
        "\n",
        "    if nilai_akhir > 85:\n",
        "      indeks = \"A\"\n",
        "    elif nilai_akhir >= 75:\n",
        "      indeks = \"AB\"\n",
        "    elif nilai_akhir >= 70:\n",
        "      indeks = \"B\"\n",
        "    elif nilai_akhir >= 60:\n",
        "      indeks = \"BC\"\n",
        "    elif nilai_akhir >= 50:\n",
        "      indeks = \"C\"\n",
        "    elif nilai_akhir >= 40:\n",
        "      indeks = \"D\"\n",
        "    else:\n",
        "      indeks = \"E\"\n",
        "\n",
        "    print(f\"{nrp} | {nama} | {fakultas} | {prodi} | {praktikum} | {uts} | {uas} | {nilai_akhir:.2f} | {indeks}\")\n",
        "\n",
        "hitung_indeks_penilaian_mahasiswa()"
      ],
      "metadata": {
        "colab": {
          "base_uri": "https://localhost:8080/"
        },
        "id": "ub7naAxBcwv2",
        "outputId": "50e1ebb3-ff1c-4e63-d899-4005a0cc16e7"
      },
      "execution_count": 46,
      "outputs": [
        {
          "output_type": "stream",
          "name": "stdout",
          "text": [
            "Masukkan jumlah mahasiswa: 5\n",
            "NRP | Nama | Fakultas | Prodi | Praktikum | UTS | UAS | Akhir | Indeks\n",
            "Masukkan NRP: 2C2230001\n",
            "Masukkan nama mahasiswa Ikopin University: Najlia Intani\n",
            "Masukkan nama fakultas: Sains dan Teknologi\n",
            "Masukkan nama prodi: Sains Data\n",
            "Masukkan nilai praktikum: 100\n",
            "Masukkan nilai UTS: 98\n",
            "Masukkan nilai UAS: 99\n",
            "2C2230001 | Najlia Intani | Sains dan Teknologi | Sains Data | 100.0 | 98.0 | 99.0 | 98.80 | A\n",
            "Masukkan NRP: 2C1320008\n",
            "Masukkan nama mahasiswa Ikopin University: Yunita Azmi\n",
            "Masukkan nama fakultas: Ekonomi dan Bisnis\n",
            "Masukkan nama prodi: Manajemen\n",
            "Masukkan nilai praktikum: 89\n",
            "Masukkan nilai UTS: 90\n",
            "Masukkan nilai UAS: 78\n",
            "2C1320008 | Yunita Azmi | Ekonomi dan Bisnis | Manajemen | 89.0 | 90.0 | 78.0 | 85.00 | AB\n",
            "Masukkan NRP: 2C3450010\n",
            "Masukkan nama mahasiswa Ikopin University: Yasmien Hanifah\n",
            "Masukkan nama fakultas: Sains dan Teknologi\n",
            "Masukkan nama prodi: Teknologi Pangan\n",
            "Masukkan nilai praktikum: 90\n",
            "Masukkan nilai UTS: 98\n",
            "Masukkan nilai UAS: 98\n",
            "2C3450010 | Yasmien Hanifah | Sains dan Teknologi | Teknologi Pangan | 90.0 | 98.0 | 98.0 | 96.40 | A\n",
            "Masukkan NRP: 2C23200015\n",
            "Masukkan nama mahasiswa Ikopin University: Annisa Yulistianti\n",
            "Masukkan nama fakultas: Sains dan Teknologi\n",
            "Masukkan nama prodi: Agribisnis\n",
            "Masukkan nilai praktikum: 90\n",
            "Masukkan nilai UTS: 8\n",
            "Masukkan nilai UAS: 70\n",
            "2C23200015 | Annisa Yulistianti | Sains dan Teknologi | Agribisnis | 90.0 | 8.0 | 70.0 | 49.20 | D\n",
            "Masukkan NRP: 2C543009\n",
            "Masukkan nama mahasiswa Ikopin University: Fitri Anggraeni\n",
            "Masukkan nama fakultas: Ekonomi dan Bisnis\n",
            "Masukkan nama prodi: Akuntansi\n",
            "Masukkan nilai praktikum: 78\n",
            "Masukkan nilai UTS: 89\n",
            "Masukkan nilai UAS: 90\n",
            "2C543009 | Fitri Anggraeni | Ekonomi dan Bisnis | Akuntansi | 78.0 | 89.0 | 90.0 | 87.20 | A\n"
          ]
        }
      ]
    }
  ]
}