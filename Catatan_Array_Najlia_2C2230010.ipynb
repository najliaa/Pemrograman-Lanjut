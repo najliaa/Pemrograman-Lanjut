{
  "nbformat": 4,
  "nbformat_minor": 0,
  "metadata": {
    "colab": {
      "provenance": [],
      "include_colab_link": true
    },
    "kernelspec": {
      "name": "python3",
      "display_name": "Python 3"
    },
    "language_info": {
      "name": "python"
    }
  },
  "cells": [
    {
      "cell_type": "markdown",
      "metadata": {
        "id": "view-in-github",
        "colab_type": "text"
      },
      "source": [
        "<a href=\"https://colab.research.google.com/github/najliaa/Pemrograman-Lanjut/blob/main/Catatan_Array_Najlia_2C2230010.ipynb\" target=\"_parent\"><img src=\"https://colab.research.google.com/assets/colab-badge.svg\" alt=\"Open In Colab\"/></a>"
      ]
    },
    {
      "cell_type": "markdown",
      "source": [
        "#**🖥️👩🏻‍💻PRAKTIKUM PEMROGRAMAN LANJUT🔥**\n",
        "##**Pertemuan (3) ARRAY - Senin, 28 Oktober 2024**\n",
        "\n",
        "👤 Nama: Najlia Intani / NRP: 2C2230010 / Kelas: II/A Sains Data\n",
        "\n",
        "💬Deskripsi Pembahasan Materi Array:\n",
        "1. Array\n",
        "\n",
        "\n"
      ],
      "metadata": {
        "id": "_bN6_LxQCJZT"
      }
    },
    {
      "cell_type": "markdown",
      "source": [
        "#🤸🏻‍♀️ EKSPLORASI PRIBADI DI KELAS ✨"
      ],
      "metadata": {
        "id": "N0U2Qjks8P9F"
      }
    },
    {
      "cell_type": "markdown",
      "source": [
        "1.1 PENGENALAN ARRAY\n",
        "\n",
        "Array adalah variabel dengan satu buah nama, tetapi mengandung banyak nilai. Akses nilai-\n",
        "nilainya dilakukan dengan indeks.\n",
        "\n",
        "Indeks 0 1 2 3 4 5 6 7 8 9\n",
        "\n",
        "A 3 10 5 7 11 19 23 35 37 12\n",
        "\n",
        "▪ Keterangan Tabel:\n",
        "A[0] = 3\n",
        "A[1] = 10\n",
        "A[7] = 35\n",
        "\n",
        "Pada contoh diatas, kita memiliki sebuah variabel yang bernama A. Variabel A tersebut\n",
        "memiliki 10 buah nilai, dimana nilai-nilai tersebut dapat diakses dengan indeks (mengakses dengan\n",
        "memerhatikan posisi urutan setiap elemen berada, defult indexing biasanya dimulai dari urutan ke-0).\n",
        "Untuk mengakses indeks ke – x, gunakanlah A[x]. Dan nilai A[x] itu bisa kita anggap sebagai variabel\n",
        "yang berdiri sendiri. Konsep inilah yang kita sebut dengan array. Perhatikan pula bahwa indeks dimulai\n",
        "dari 0."
      ],
      "metadata": {
        "id": "2JzYHygYLXDK"
      }
    },
    {
      "cell_type": "markdown",
      "source": [
        "1.2 DEKLARASI ARRAY\n",
        "karena array juga merupakan sebuah variabel, maka array juga memerlukan deklarasi seperti\n",
        "variabel lainnya. Contoh deklarasi array:\n",
        "\n",
        "x = [0 for i in range(n)] membuat array berukuran n dengan isi 0.\n",
        "\n",
        "x = [\"*\"for i in range(100)] membuat array berukuran 100 dengan isi karakter \"*\".\n",
        "\n",
        "Untuk contoh tersebut array A yang terdefinisi adalah A[0], A[1], A[2], . . . , A[9]. Mengakses nilai\n",
        "indeks di luar batasan tersebut akan menyebabkan runtime error. Oleh karena itu, tentukanlah rentang\n",
        "indeks yang akan digunakan saat deklarasi dengan tepat (sesuai dengan kebutuhan)."
      ],
      "metadata": {
        "id": "HrigEbNqPVaP"
      }
    },
    {
      "cell_type": "markdown",
      "source": [
        "1.3 Array dan Variabel\n",
        "Suatu array dapat kita anggap sebagai variabel, sehingga segala jenis operasi pada variabel juga\n",
        "berlaku pada array. Sebagai contoh, kita memiliki suatu array bernama tabel berikut.\n",
        "\n",
        "tabel = [0 for i in range(10)]  \n",
        "\n",
        "Maka array tabel tersebut akan terdefinisi untuk indeks 0 sampai dengan indeks 9. Maka kita bisa\n",
        "melakukan instruksi ini,  \n",
        "\n",
        "tabel[2] = int(input())\n",
        "\n",
        "Jika diberikan 5 buah bilangan, dan kita perlu menyimpan bilangan tersebut pada tabel, kita bisa\n",
        "melakukan:"
      ],
      "metadata": {
        "id": "q-MEoDFdPkLz"
      }
    },
    {
      "cell_type": "code",
      "source": [
        "tabel[0] = int( input(\" Masukkan nilai ke -0: \"))\n",
        "tabel[1] = int( input(\" Masukkan nilai ke -1: \"))\n",
        "tabel[2] = int( input(\" Masukkan nilai ke -2: \"))\n",
        "tabel[3] = int( input(\" Masukkan nilai ke -3: \"))\n",
        "tabel[4] = int( input(\" Masukkan nilai ke -4: \"))"
      ],
      "metadata": {
        "id": "sOPs421kP0wl"
      },
      "execution_count": null,
      "outputs": []
    },
    {
      "cell_type": "markdown",
      "source": [
        "Namun, cara meng-input tersebut kurang efisien (harus mengetikkan kode, yang sama, berkali\n",
        "kali). Akan lebih efisien jika kita menginput menggunakan perulangan (LOOPING)."
      ],
      "metadata": {
        "id": "qtGNlR5OQFb8"
      }
    },
    {
      "cell_type": "code",
      "source": [
        "for i in range(5):\n",
        "tabel[i] = int( input(’ Masukkan nilai ke-’ + str(i) + ’: ’))"
      ],
      "metadata": {
        "id": "rNAJciSFQGiO"
      },
      "execution_count": null,
      "outputs": []
    },
    {
      "cell_type": "markdown",
      "source": [
        "1.4 STRING\n",
        "\n",
        "Pada modul 1 kita telah mempelajari tipe data string. String dapat dianggap sebagai array of\n",
        "character, namun tipe data string memiliki karakteristik yang berbeda dengan array of character yaitu\n",
        "string merupakan tipe data immutable.\n",
        "Artinya, string tidak dapat diubah nilainya setelah\n",
        "dideklarasikan. Sebagai contoh, jika kita memiliki string s1:\n",
        "\n",
        "s1 = \"Hello\"\n",
        "\n",
        "Kita tidak dapat mengupdate nilai s1, misal melakukan assignment s1[1] = ’a’ akan menyebabkan\n",
        "error. Berbeda halnya dengan array of character, kita dapat mengubah nilai array of character setelah\n",
        "dideklarasikan. Sebagai contoh, jika kita memiliki array of character s2:\n",
        "\n",
        "s2 = [’H’, ’e’, ’l’, ’l’, ’o’]  \n",
        "\n",
        "Kita dapat mengubah nilai s2, misal melakukan assignment s2[1] = ’a’ akan mengubah nilai s2\n",
        "menjadi [’H’, ’a’, ’l’, ’l’, ’o’]. Namun, kita dapat mengakses nilai string dengan indeks, misal s1[1] akan\n",
        "bernilai ’e’."
      ],
      "metadata": {
        "id": "dCoGS9JUQK8E"
      }
    },
    {
      "cell_type": "markdown",
      "source": [],
      "metadata": {
        "id": "wDCWtuBLP7B1"
      }
    },
    {
      "cell_type": "markdown",
      "source": [
        "#🧠 LATIHAN SOAL DI KELAS ⏱️"
      ],
      "metadata": {
        "id": "KEGjH0_P9D1-"
      }
    },
    {
      "cell_type": "markdown",
      "source": [
        "1. REVERSE\n",
        "Buatlah program yang menerima N buah bilangan dan menuliskan kembali bilangan-bilangan tersebut,\n",
        "namun dengan urutan terbalik.\n",
        "\n",
        "Contoh:\n",
        "\n",
        "Masukkan N: 5\n",
        "\n",
        "5\n",
        "\n",
        "2\n",
        "\n",
        "1\n",
        "\n",
        "6\n",
        "\n",
        "3\n",
        "\n",
        "Hasil dibalik:\n",
        "3 6 1 2 5"
      ],
      "metadata": {
        "id": "9Wd3HbYgQjq0"
      }
    },
    {
      "cell_type": "code",
      "source": [
        "-"
      ],
      "metadata": {
        "id": "KEvvr-xAhLi5"
      },
      "execution_count": null,
      "outputs": []
    },
    {
      "cell_type": "code",
      "source": [
        "3\n",
        "3n = int(input(\"Masukkan N: \"))\n",
        "bilangan = []\n",
        "\n",
        "for i in range(n):\n",
        "  bilangan.append(int(input()))\n",
        "\n",
        "print(\"Hasil dibalik:\")\n",
        "for i in range(n - 1, -1, -1):\n",
        "  print(bilangan[i], end=\" \")"
      ],
      "metadata": {
        "id": "6dYzHb3CQzlU",
        "colab": {
          "base_uri": "https://localhost:8080/"
        },
        "outputId": "8e89b2e6-7bfc-408a-aa45-ae18bab87571"
      },
      "execution_count": 2,
      "outputs": [
        {
          "output_type": "stream",
          "name": "stdout",
          "text": [
            "Masukkan N: 5\n",
            "5\n",
            "5\n",
            "2\n",
            "3\n",
            "4\n",
            "Hasil dibalik:\n",
            "4 3 2 5 5 "
          ]
        }
      ]
    },
    {
      "cell_type": "markdown",
      "source": [
        "2. ANAGRAM\n",
        "\n",
        "Diberikan dua array A dan B. Buatlah sebuah program yang dapat memeriksa apakah B meru-\n",
        "pakan anagram dari A. Asumsikan elemen pada array A dan B maksimal 10. Array B didefinisikan\n",
        "sebagai anagram dari array A bila elemen-elemen di array A dapat ditukar-tukar sehingga menghasilkan\n",
        "array B.  \n",
        "\n",
        "Hint: gunakan tabel frekuensi, yakni sebuah array yang indeks ke-1 menunjukkan banyaknya\n",
        "bilangan 1, indeks ke-2 menunjukkan banyaknya bilangan 2, dan seterusnya.\n",
        "\n",
        "Contoh 1\n",
        "\n",
        "Masukkan banyaknya elemen A: 3 Masukkan elemen A ke -1: 8  \n",
        "Masukkan elemen A ke -2: 4  \n",
        "Masukkan elemen A ke -3: 3  \n",
        "Masukkan banyaknya elemen B: 3  \n",
        "Masukkan elemen B ke -1: 4  \n",
        "Masukkan elemen B ke -2: 8  \n",
        "Masukkan elemen B ke -3: 3\n",
        "B adalah anagram dari A   \n",
        "\n",
        "Contoh 2\n",
        "\n",
        "Masukkan banyaknya elemen A: 2\n",
        "\n",
        "Masukkan elemen A ke -1: 1   \n",
        "Masukkan elemen A ke -2: 4   \n",
        "\n",
        "Masukkan banyaknya elemen B: 2\n",
        "\n",
        "Masukkan elemen B ke -1: 1   \n",
        "Masukkan elemen B ke -2: 5   \n",
        "B bukan anagram dari A"
      ],
      "metadata": {
        "id": "vxbE58dPSUCk"
      }
    },
    {
      "cell_type": "code",
      "source": [
        "def is_anagram(A, B):\n",
        "  if len(A) != len(B):\n",
        "    return False\n",
        "\n",
        "  freq_A = [0] * 11  # Tabel frekuensi untuk A (asumsi elemen maksimal 10)\n",
        "  freq_B = [0] * 11  # Tabel frekuensi untuk B\n",
        "\n",
        "  for x in A:\n",
        "    freq_A[x] += 1\n",
        "  for x in B:\n",
        "    freq_B[x] += 1\n",
        "\n",
        "  return freq_A == freq_B\n",
        "\n",
        "\n",
        "# Input array A\n",
        "n_A = int(input(\"Masukkan banyaknya elemen A: \"))\n",
        "A = []\n",
        "for i in range(n_A):\n",
        "  A.append(int(input(f\"Masukkan elemen A ke-{i + 1}: \")))\n",
        "\n",
        "# Input array B\n",
        "n_B = int(input(\"Masukkan banyaknya elemen B: \"))\n",
        "B = []\n",
        "for i in range(n_B):\n",
        "  B.append(int(input(f\"Masukkan elemen B ke-{i + 1}: \")))\n",
        "\n",
        "# Periksa apakah B adalah anagram dari A\n",
        "if is_anagram(A, B):\n",
        "  print(\"B adalah anagram dari A\")\n",
        "else:\n",
        "  print(\"B bukan anagram dari A\")"
      ],
      "metadata": {
        "id": "OWKAZSkCSkC2",
        "colab": {
          "base_uri": "https://localhost:8080/"
        },
        "outputId": "9bb203bf-df58-4868-d10a-68b3bf3b01c9"
      },
      "execution_count": 3,
      "outputs": [
        {
          "output_type": "stream",
          "name": "stdout",
          "text": [
            "Masukkan banyaknya elemen A: 3\n",
            "Masukkan elemen A ke-1: 8\n",
            "Masukkan elemen A ke-2: 4\n",
            "Masukkan elemen A ke-3: 3\n",
            "Masukkan banyaknya elemen B: 3\n",
            "Masukkan elemen B ke-1: 4\n",
            "Masukkan elemen B ke-2: 8\n",
            "Masukkan elemen B ke-3: 3\n",
            "B adalah anagram dari A\n"
          ]
        }
      ]
    },
    {
      "cell_type": "markdown",
      "source": [
        "3. PALINDROM\n",
        "\n",
        "Buatlah program yang menerima sebuah string dan menuliskan apakah string tersebut palindrom.\n",
        "Asumsikan string hanya berisi huruf kecil (a-z).\n",
        "\n",
        "Contoh 1:\n",
        "\n",
        "Masukkan panjang string: 5  \n",
        "Masukkan string: makan  \n",
        "makan bukan palindrom\n",
        "\n",
        "Contoh 2:\n",
        "\n",
        "Masukkan panjang string: 10  \n",
        "Masukkan string: kasurrusak  \n",
        "\n",
        "kasurrusak adalah palindrom\n",
        "\n",
        "Contoh 3:\n",
        "\n",
        "Masukkan panjang string: 3\n",
        "\n",
        "Masukkan string: apa\n",
        "\n",
        "apa adalah palindrom"
      ],
      "metadata": {
        "id": "Y42Pdh4yS0UG"
      }
    },
    {
      "cell_type": "code",
      "source": [
        "def is_palindrome(string):\n",
        "  string = string.lower()\n",
        "  return string == string[::-1]\n",
        "\n",
        "# Input panjang string\n",
        "n = int(input(\"Masukkan panjang string: \"))\n",
        "\n",
        "# Input string\n",
        "string = input(\"Masukkan string: \")\n",
        "\n",
        "# Cek apakah string merupakan palindrom\n",
        "if is_palindrome(string):\n",
        "  print(string + \" adalah palindrom\")\n",
        "else:\n",
        "  print(string + \" bukan palindrom\")"
      ],
      "metadata": {
        "id": "LMDkxkA2Tn6N",
        "colab": {
          "base_uri": "https://localhost:8080/"
        },
        "outputId": "f349990b-aa9a-4bf3-9748-5a42caf5a104"
      },
      "execution_count": 4,
      "outputs": [
        {
          "output_type": "stream",
          "name": "stdout",
          "text": [
            "Masukkan panjang string: 5\n",
            "Masukkan string: makan\n",
            "makan bukan palindrom\n"
          ]
        }
      ]
    },
    {
      "cell_type": "markdown",
      "source": [
        "#🏆 POST TEST 🎯"
      ],
      "metadata": {
        "id": "J_75vTSXKFGE"
      }
    },
    {
      "cell_type": "markdown",
      "source": [
        "📌Catatan:\n",
        "  - Notebook python ini dibuat untuk memudahkan temen-temen belajar ngoding dan pengumpulan tugas.\n",
        "  - Silakan download notebook ini lalu upload di Google Collab milik kalian agar format `pertemuan`, `topik pertemuan`,\n",
        "`tanggal`, `deskripsi pembahasan materi`, `baris coding` dan `interpretasi` bisa disesuaikan dengan kebutuhan teman-teman.\n",
        "\n",
        "  - Interpretasi coding dan hasil dimaksudkan agar teman-teman semakin memahami apa yang dipelajari.\n",
        "\n",
        "  - Deskripsi pembahasan materi dimaksudkan agar teman-teman semakin memahami apa fokus yang dipelajari.\n",
        "\n",
        "  - Tulisan di setiap sebelum baris code disebut `markdown`. Ada beberapa jenis simbol yang memudahkan kepenulisan `markdown` kita, yaitu seperti : untuk mengatur ukuran tulisan biasanya tulisan pada header menggunakan ini`#`, `##`, `###`, untuk membuat pointer menggunakan ini `-`, untuk membuat tulisan ter-highlight menggunakan ini *` `* , untuk short-cut membuat tulisan jadi **bold** gunakan ini `** **`, dan untuk *tulisan miring* gunakan ini `* *` .\n",
        "\n",
        "  - Semangat belajar! 🌟✨\n",
        "\n",
        "©️ LABORATORIUM SAINS DATA 2024"
      ],
      "metadata": {
        "id": "D-tRQnbQK69l"
      }
    }
  ]
}